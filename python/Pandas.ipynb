{
 "cells": [
  {
   "cell_type": "markdown",
   "metadata": {},
   "source": [
    "### Pandas\n"
   ]
  },
  {
   "cell_type": "code",
   "execution_count": 1,
   "metadata": {},
   "outputs": [],
   "source": [
    "import pandas as pd"
   ]
  },
  {
   "cell_type": "markdown",
   "metadata": {},
   "source": [
    "## Level 1: The Basics (Loading & Inspecting)"
   ]
  },
  {
   "cell_type": "markdown",
   "metadata": {},
   "source": [
    "Q1 Load the Data: Create a pandas DataFrame by reading the CSV file from the URL provided above. Name the DataFrame housing_df."
   ]
  },
  {
   "cell_type": "code",
   "execution_count": 3,
   "metadata": {},
   "outputs": [],
   "source": [
    "housing_df = pd.read_csv(\"california_housing_train.csv\")"
   ]
  },
  {
   "cell_type": "markdown",
   "metadata": {},
   "source": [
    "Q2 First Look: Display the first 10 rows of the DataFrame to get a feel for the data"
   ]
  },
  {
   "cell_type": "code",
   "execution_count": 5,
   "metadata": {},
   "outputs": [
    {
     "data": {
      "application/vnd.microsoft.datawrangler.viewer.v0+json": {
       "columns": [
        {
         "name": "index",
         "rawType": "int64",
         "type": "integer"
        },
        {
         "name": "longitude",
         "rawType": "float64",
         "type": "float"
        },
        {
         "name": "latitude",
         "rawType": "float64",
         "type": "float"
        },
        {
         "name": "housing_median_age",
         "rawType": "float64",
         "type": "float"
        },
        {
         "name": "total_rooms",
         "rawType": "float64",
         "type": "float"
        },
        {
         "name": "total_bedrooms",
         "rawType": "float64",
         "type": "float"
        },
        {
         "name": "population",
         "rawType": "float64",
         "type": "float"
        },
        {
         "name": "households",
         "rawType": "float64",
         "type": "float"
        },
        {
         "name": "median_income",
         "rawType": "float64",
         "type": "float"
        },
        {
         "name": "median_house_value",
         "rawType": "float64",
         "type": "float"
        }
       ],
       "ref": "b5d582d2-2444-43c9-beb6-cc72cb4fd941",
       "rows": [
        [
         "0",
         "-114.31",
         "34.19",
         "15.0",
         "5612.0",
         "1283.0",
         "1015.0",
         "472.0",
         "1.4936",
         "66900.0"
        ],
        [
         "1",
         "-114.47",
         "34.4",
         "19.0",
         "7650.0",
         "1901.0",
         "1129.0",
         "463.0",
         "1.82",
         "80100.0"
        ],
        [
         "2",
         "-114.56",
         "33.69",
         "17.0",
         "720.0",
         "174.0",
         "333.0",
         "117.0",
         "1.6509",
         "85700.0"
        ],
        [
         "3",
         "-114.57",
         "33.64",
         "14.0",
         "1501.0",
         "337.0",
         "515.0",
         "226.0",
         "3.1917",
         "73400.0"
        ],
        [
         "4",
         "-114.57",
         "33.57",
         "20.0",
         "1454.0",
         "326.0",
         "624.0",
         "262.0",
         "1.925",
         "65500.0"
        ],
        [
         "5",
         "-114.58",
         "33.63",
         "29.0",
         "1387.0",
         "236.0",
         "671.0",
         "239.0",
         "3.3438",
         "74000.0"
        ],
        [
         "6",
         "-114.58",
         "33.61",
         "25.0",
         "2907.0",
         "680.0",
         "1841.0",
         "633.0",
         "2.6768",
         "82400.0"
        ],
        [
         "7",
         "-114.59",
         "34.83",
         "41.0",
         "812.0",
         "168.0",
         "375.0",
         "158.0",
         "1.7083",
         "48500.0"
        ],
        [
         "8",
         "-114.59",
         "33.61",
         "34.0",
         "4789.0",
         "1175.0",
         "3134.0",
         "1056.0",
         "2.1782",
         "58400.0"
        ],
        [
         "9",
         "-114.6",
         "34.83",
         "46.0",
         "1497.0",
         "309.0",
         "787.0",
         "271.0",
         "2.1908",
         "48100.0"
        ]
       ],
       "shape": {
        "columns": 9,
        "rows": 10
       }
      },
      "text/html": [
       "<div>\n",
       "<style scoped>\n",
       "    .dataframe tbody tr th:only-of-type {\n",
       "        vertical-align: middle;\n",
       "    }\n",
       "\n",
       "    .dataframe tbody tr th {\n",
       "        vertical-align: top;\n",
       "    }\n",
       "\n",
       "    .dataframe thead th {\n",
       "        text-align: right;\n",
       "    }\n",
       "</style>\n",
       "<table border=\"1\" class=\"dataframe\">\n",
       "  <thead>\n",
       "    <tr style=\"text-align: right;\">\n",
       "      <th></th>\n",
       "      <th>longitude</th>\n",
       "      <th>latitude</th>\n",
       "      <th>housing_median_age</th>\n",
       "      <th>total_rooms</th>\n",
       "      <th>total_bedrooms</th>\n",
       "      <th>population</th>\n",
       "      <th>households</th>\n",
       "      <th>median_income</th>\n",
       "      <th>median_house_value</th>\n",
       "    </tr>\n",
       "  </thead>\n",
       "  <tbody>\n",
       "    <tr>\n",
       "      <th>0</th>\n",
       "      <td>-114.31</td>\n",
       "      <td>34.19</td>\n",
       "      <td>15.0</td>\n",
       "      <td>5612.0</td>\n",
       "      <td>1283.0</td>\n",
       "      <td>1015.0</td>\n",
       "      <td>472.0</td>\n",
       "      <td>1.4936</td>\n",
       "      <td>66900.0</td>\n",
       "    </tr>\n",
       "    <tr>\n",
       "      <th>1</th>\n",
       "      <td>-114.47</td>\n",
       "      <td>34.40</td>\n",
       "      <td>19.0</td>\n",
       "      <td>7650.0</td>\n",
       "      <td>1901.0</td>\n",
       "      <td>1129.0</td>\n",
       "      <td>463.0</td>\n",
       "      <td>1.8200</td>\n",
       "      <td>80100.0</td>\n",
       "    </tr>\n",
       "    <tr>\n",
       "      <th>2</th>\n",
       "      <td>-114.56</td>\n",
       "      <td>33.69</td>\n",
       "      <td>17.0</td>\n",
       "      <td>720.0</td>\n",
       "      <td>174.0</td>\n",
       "      <td>333.0</td>\n",
       "      <td>117.0</td>\n",
       "      <td>1.6509</td>\n",
       "      <td>85700.0</td>\n",
       "    </tr>\n",
       "    <tr>\n",
       "      <th>3</th>\n",
       "      <td>-114.57</td>\n",
       "      <td>33.64</td>\n",
       "      <td>14.0</td>\n",
       "      <td>1501.0</td>\n",
       "      <td>337.0</td>\n",
       "      <td>515.0</td>\n",
       "      <td>226.0</td>\n",
       "      <td>3.1917</td>\n",
       "      <td>73400.0</td>\n",
       "    </tr>\n",
       "    <tr>\n",
       "      <th>4</th>\n",
       "      <td>-114.57</td>\n",
       "      <td>33.57</td>\n",
       "      <td>20.0</td>\n",
       "      <td>1454.0</td>\n",
       "      <td>326.0</td>\n",
       "      <td>624.0</td>\n",
       "      <td>262.0</td>\n",
       "      <td>1.9250</td>\n",
       "      <td>65500.0</td>\n",
       "    </tr>\n",
       "    <tr>\n",
       "      <th>5</th>\n",
       "      <td>-114.58</td>\n",
       "      <td>33.63</td>\n",
       "      <td>29.0</td>\n",
       "      <td>1387.0</td>\n",
       "      <td>236.0</td>\n",
       "      <td>671.0</td>\n",
       "      <td>239.0</td>\n",
       "      <td>3.3438</td>\n",
       "      <td>74000.0</td>\n",
       "    </tr>\n",
       "    <tr>\n",
       "      <th>6</th>\n",
       "      <td>-114.58</td>\n",
       "      <td>33.61</td>\n",
       "      <td>25.0</td>\n",
       "      <td>2907.0</td>\n",
       "      <td>680.0</td>\n",
       "      <td>1841.0</td>\n",
       "      <td>633.0</td>\n",
       "      <td>2.6768</td>\n",
       "      <td>82400.0</td>\n",
       "    </tr>\n",
       "    <tr>\n",
       "      <th>7</th>\n",
       "      <td>-114.59</td>\n",
       "      <td>34.83</td>\n",
       "      <td>41.0</td>\n",
       "      <td>812.0</td>\n",
       "      <td>168.0</td>\n",
       "      <td>375.0</td>\n",
       "      <td>158.0</td>\n",
       "      <td>1.7083</td>\n",
       "      <td>48500.0</td>\n",
       "    </tr>\n",
       "    <tr>\n",
       "      <th>8</th>\n",
       "      <td>-114.59</td>\n",
       "      <td>33.61</td>\n",
       "      <td>34.0</td>\n",
       "      <td>4789.0</td>\n",
       "      <td>1175.0</td>\n",
       "      <td>3134.0</td>\n",
       "      <td>1056.0</td>\n",
       "      <td>2.1782</td>\n",
       "      <td>58400.0</td>\n",
       "    </tr>\n",
       "    <tr>\n",
       "      <th>9</th>\n",
       "      <td>-114.60</td>\n",
       "      <td>34.83</td>\n",
       "      <td>46.0</td>\n",
       "      <td>1497.0</td>\n",
       "      <td>309.0</td>\n",
       "      <td>787.0</td>\n",
       "      <td>271.0</td>\n",
       "      <td>2.1908</td>\n",
       "      <td>48100.0</td>\n",
       "    </tr>\n",
       "  </tbody>\n",
       "</table>\n",
       "</div>"
      ],
      "text/plain": [
       "   longitude  latitude  housing_median_age  total_rooms  total_bedrooms  \\\n",
       "0    -114.31     34.19                15.0       5612.0          1283.0   \n",
       "1    -114.47     34.40                19.0       7650.0          1901.0   \n",
       "2    -114.56     33.69                17.0        720.0           174.0   \n",
       "3    -114.57     33.64                14.0       1501.0           337.0   \n",
       "4    -114.57     33.57                20.0       1454.0           326.0   \n",
       "5    -114.58     33.63                29.0       1387.0           236.0   \n",
       "6    -114.58     33.61                25.0       2907.0           680.0   \n",
       "7    -114.59     34.83                41.0        812.0           168.0   \n",
       "8    -114.59     33.61                34.0       4789.0          1175.0   \n",
       "9    -114.60     34.83                46.0       1497.0           309.0   \n",
       "\n",
       "   population  households  median_income  median_house_value  \n",
       "0      1015.0       472.0         1.4936             66900.0  \n",
       "1      1129.0       463.0         1.8200             80100.0  \n",
       "2       333.0       117.0         1.6509             85700.0  \n",
       "3       515.0       226.0         3.1917             73400.0  \n",
       "4       624.0       262.0         1.9250             65500.0  \n",
       "5       671.0       239.0         3.3438             74000.0  \n",
       "6      1841.0       633.0         2.6768             82400.0  \n",
       "7       375.0       158.0         1.7083             48500.0  \n",
       "8      3134.0      1056.0         2.1782             58400.0  \n",
       "9       787.0       271.0         2.1908             48100.0  "
      ]
     },
     "execution_count": 5,
     "metadata": {},
     "output_type": "execute_result"
    }
   ],
   "source": [
    "housing_df.head(10)"
   ]
  },
  {
   "cell_type": "markdown",
   "metadata": {},
   "source": [
    "Q3 Check the Shape: How many rows and columns are in the dataset?"
   ]
  },
  {
   "cell_type": "code",
   "execution_count": 6,
   "metadata": {},
   "outputs": [
    {
     "data": {
      "text/plain": [
       "(17000, 9)"
      ]
     },
     "execution_count": 6,
     "metadata": {},
     "output_type": "execute_result"
    }
   ],
   "source": [
    "housing_df.shape"
   ]
  },
  {
   "cell_type": "markdown",
   "metadata": {},
   "source": [
    "Q4 Basic Info: Use the .info() method to see the data type of each column and check for any missing values."
   ]
  },
  {
   "cell_type": "code",
   "execution_count": 7,
   "metadata": {},
   "outputs": [
    {
     "name": "stdout",
     "output_type": "stream",
     "text": [
      "<class 'pandas.core.frame.DataFrame'>\n",
      "RangeIndex: 17000 entries, 0 to 16999\n",
      "Data columns (total 9 columns):\n",
      " #   Column              Non-Null Count  Dtype  \n",
      "---  ------              --------------  -----  \n",
      " 0   longitude           17000 non-null  float64\n",
      " 1   latitude            17000 non-null  float64\n",
      " 2   housing_median_age  17000 non-null  float64\n",
      " 3   total_rooms         17000 non-null  float64\n",
      " 4   total_bedrooms      17000 non-null  float64\n",
      " 5   population          17000 non-null  float64\n",
      " 6   households          17000 non-null  float64\n",
      " 7   median_income       17000 non-null  float64\n",
      " 8   median_house_value  17000 non-null  float64\n",
      "dtypes: float64(9)\n",
      "memory usage: 1.2 MB\n"
     ]
    }
   ],
   "source": [
    "housing_df.info()"
   ]
  },
  {
   "cell_type": "markdown",
   "metadata": {},
   "source": [
    "Q5 Select a Column: Select and display only the median_house_value column. What is the type of this object?"
   ]
  },
  {
   "cell_type": "code",
   "execution_count": 8,
   "metadata": {},
   "outputs": [
    {
     "name": "stdout",
     "output_type": "stream",
     "text": [
      "<class 'pandas.core.series.Series'>\n",
      "0         66900.0\n",
      "1         80100.0\n",
      "2         85700.0\n",
      "3         73400.0\n",
      "4         65500.0\n",
      "           ...   \n",
      "16995    111400.0\n",
      "16996     79000.0\n",
      "16997    103600.0\n",
      "16998     85800.0\n",
      "16999     94600.0\n",
      "Name: median_house_value, Length: 17000, dtype: float64\n"
     ]
    }
   ],
   "source": [
    "median_house_value = housing_df[\"median_house_value\"]\n",
    "print(type(median_house_value))\n",
    "print(median_house_value)"
   ]
  },
  {
   "cell_type": "markdown",
   "metadata": {},
   "source": [
    "Q6 select Multiple Columns: Create a new, smaller DataFrame called location_df that contains only the latitude and longitude columns."
   ]
  },
  {
   "cell_type": "code",
   "execution_count": 10,
   "metadata": {},
   "outputs": [
    {
     "name": "stdout",
     "output_type": "stream",
     "text": [
      "       latitude  longitude\n",
      "0         34.19    -114.31\n",
      "1         34.40    -114.47\n",
      "2         33.69    -114.56\n",
      "3         33.64    -114.57\n",
      "4         33.57    -114.57\n",
      "...         ...        ...\n",
      "16995     40.58    -124.26\n",
      "16996     40.69    -124.27\n",
      "16997     41.84    -124.30\n",
      "16998     41.80    -124.30\n",
      "16999     40.54    -124.35\n",
      "\n",
      "[17000 rows x 2 columns]\n"
     ]
    }
   ],
   "source": [
    "lat_long = housing_df[[\"latitude\",\"longitude\"]]\n",
    "print(lat_long)"
   ]
  },
  {
   "cell_type": "markdown",
   "metadata": {},
   "source": [
    "## Level 2: Filtering & Selection (Slicing & Dicing)"
   ]
  },
  {
   "cell_type": "markdown",
   "metadata": {},
   "source": [
    "Q1 Conditional Filtering: Create a new DataFrame called new_homes_df that contains only the houses where the housing_median_age is 10 years or less. How many such houses are there?"
   ]
  },
  {
   "cell_type": "code",
   "execution_count": 13,
   "metadata": {},
   "outputs": [
    {
     "name": "stdout",
     "output_type": "stream",
     "text": [
      "longitude             1313\n",
      "latitude              1313\n",
      "housing_median_age    1313\n",
      "total_rooms           1313\n",
      "total_bedrooms        1313\n",
      "population            1313\n",
      "households            1313\n",
      "median_income         1313\n",
      "median_house_value    1313\n",
      "dtype: int64\n"
     ]
    }
   ],
   "source": [
    "new_homes_df = housing_df[housing_df[\"housing_median_age\"] <=10 ]\n",
    "print(new_homes_df.count())"
   ]
  },
  {
   "cell_type": "markdown",
   "metadata": {},
   "source": [
    "Q2 Multi-Condition Filtering: Find all the houses that have more than 5000 total_rooms and a population of less than 1500 people."
   ]
  },
  {
   "cell_type": "code",
   "execution_count": 15,
   "metadata": {},
   "outputs": [
    {
     "name": "stderr",
     "output_type": "stream",
     "text": [
      "C:\\Users\\cvish\\AppData\\Local\\Temp\\ipykernel_28576\\1978433486.py:2: UserWarning: Boolean Series key will be reindexed to match DataFrame index.\n",
      "  q = q[housing_df[\"population\"] < 1500]\n"
     ]
    },
    {
     "data": {
      "application/vnd.microsoft.datawrangler.viewer.v0+json": {
       "columns": [
        {
         "name": "index",
         "rawType": "int64",
         "type": "integer"
        },
        {
         "name": "longitude",
         "rawType": "float64",
         "type": "float"
        },
        {
         "name": "latitude",
         "rawType": "float64",
         "type": "float"
        },
        {
         "name": "housing_median_age",
         "rawType": "float64",
         "type": "float"
        },
        {
         "name": "total_rooms",
         "rawType": "float64",
         "type": "float"
        },
        {
         "name": "total_bedrooms",
         "rawType": "float64",
         "type": "float"
        },
        {
         "name": "population",
         "rawType": "float64",
         "type": "float"
        },
        {
         "name": "households",
         "rawType": "float64",
         "type": "float"
        },
        {
         "name": "median_income",
         "rawType": "float64",
         "type": "float"
        },
        {
         "name": "median_house_value",
         "rawType": "float64",
         "type": "float"
        }
       ],
       "ref": "25845cb7-9159-408a-aa1c-07e07084556e",
       "rows": [
        [
         "0",
         "-114.31",
         "34.19",
         "15.0",
         "5612.0",
         "1283.0",
         "1015.0",
         "472.0",
         "1.4936",
         "66900.0"
        ],
        [
         "1",
         "-114.47",
         "34.4",
         "19.0",
         "7650.0",
         "1901.0",
         "1129.0",
         "463.0",
         "1.82",
         "80100.0"
        ],
        [
         "172",
         "-116.26",
         "33.65",
         "3.0",
         "7437.0",
         "1222.0",
         "574.0",
         "302.0",
         "10.2948",
         "382400.0"
        ],
        [
         "193",
         "-116.37",
         "33.69",
         "7.0",
         "8806.0",
         "1542.0",
         "858.0",
         "448.0",
         "7.8005",
         "318100.0"
        ],
        [
         "209",
         "-116.42",
         "33.79",
         "12.0",
         "7095.0",
         "1260.0",
         "1179.0",
         "570.0",
         "4.9444",
         "285000.0"
        ],
        [
         "218",
         "-116.44",
         "33.93",
         "17.0",
         "5293.0",
         "1266.0",
         "1201.0",
         "599.0",
         "1.6849",
         "88400.0"
        ],
        [
         "222",
         "-116.45",
         "33.78",
         "16.0",
         "5228.0",
         "992.0",
         "1177.0",
         "639.0",
         "3.0859",
         "134600.0"
        ],
        [
         "235",
         "-116.49",
         "33.8",
         "13.0",
         "8789.0",
         "1875.0",
         "1274.0",
         "688.0",
         "3.7396",
         "148900.0"
        ],
        [
         "258",
         "-116.54",
         "33.8",
         "22.0",
         "6050.0",
         "1387.0",
         "1432.0",
         "890.0",
         "2.2216",
         "183900.0"
        ],
        [
         "284",
         "-116.75",
         "33.83",
         "16.0",
         "5277.0",
         "1070.0",
         "657.0",
         "276.0",
         "3.3333",
         "143400.0"
        ],
        [
         "299",
         "-116.82",
         "34.24",
         "11.0",
         "5799.0",
         "1527.0",
         "713.0",
         "262.0",
         "2.5147",
         "84700.0"
        ],
        [
         "300",
         "-116.83",
         "34.25",
         "15.0",
         "8948.0",
         "1985.0",
         "1316.0",
         "514.0",
         "2.7375",
         "90800.0"
        ],
        [
         "306",
         "-116.85",
         "34.25",
         "5.0",
         "5806.0",
         "1030.0",
         "569.0",
         "219.0",
         "4.0132",
         "163100.0"
        ],
        [
         "389",
         "-116.94",
         "34.24",
         "27.0",
         "12342.0",
         "2630.0",
         "1300.0",
         "566.0",
         "1.998",
         "153500.0"
        ],
        [
         "490",
         "-116.99",
         "34.3",
         "29.0",
         "5055.0",
         "1036.0",
         "410.0",
         "191.0",
         "3.5104",
         "157100.0"
        ],
        [
         "1316",
         "-117.16",
         "34.26",
         "27.0",
         "9285.0",
         "1621.0",
         "1135.0",
         "410.0",
         "2.5446",
         "135200.0"
        ],
        [
         "1390",
         "-117.17",
         "32.68",
         "16.0",
         "5895.0",
         "1424.0",
         "873.0",
         "522.0",
         "7.3669",
         "187500.0"
        ],
        [
         "1432",
         "-117.19",
         "34.27",
         "16.0",
         "7961.0",
         "1147.0",
         "879.0",
         "280.0",
         "5.2146",
         "255200.0"
        ],
        [
         "1475",
         "-117.2",
         "34.26",
         "17.0",
         "9419.0",
         "1455.0",
         "1382.0",
         "459.0",
         "6.2233",
         "230900.0"
        ],
        [
         "1476",
         "-117.2",
         "34.24",
         "22.0",
         "8106.0",
         "1665.0",
         "1062.0",
         "423.0",
         "3.0434",
         "137200.0"
        ],
        [
         "1819",
         "-117.27",
         "34.23",
         "26.0",
         "6339.0",
         "1244.0",
         "1177.0",
         "466.0",
         "3.7708",
         "110400.0"
        ],
        [
         "2205",
         "-117.38",
         "33.14",
         "14.0",
         "5039.0",
         "1373.0",
         "1298.0",
         "696.0",
         "3.209",
         "313300.0"
        ],
        [
         "2771",
         "-117.7",
         "33.51",
         "2.0",
         "5261.0",
         "763.0",
         "1460.0",
         "599.0",
         "6.8279",
         "279000.0"
        ],
        [
         "9069",
         "-118.99",
         "37.63",
         "10.0",
         "7744.0",
         "1573.0",
         "483.0",
         "224.0",
         "3.2917",
         "231800.0"
        ],
        [
         "9426",
         "-119.23",
         "34.19",
         "16.0",
         "5297.0",
         "810.0",
         "1489.0",
         "667.0",
         "6.4522",
         "500001.0"
        ],
        [
         "10261",
         "-120.0",
         "38.93",
         "17.0",
         "8005.0",
         "1382.0",
         "999.0",
         "383.0",
         "3.9722",
         "313400.0"
        ],
        [
         "10284",
         "-120.03",
         "38.19",
         "26.0",
         "7005.0",
         "1358.0",
         "416.0",
         "189.0",
         "2.125",
         "132500.0"
        ],
        [
         "10377",
         "-120.18",
         "39.28",
         "14.0",
         "10098.0",
         "1545.0",
         "701.0",
         "254.0",
         "4.0819",
         "141300.0"
        ],
        [
         "10398",
         "-120.22",
         "39.2",
         "22.0",
         "8259.0",
         "1409.0",
         "845.0",
         "353.0",
         "3.3699",
         "244000.0"
        ],
        [
         "10415",
         "-120.26",
         "39.32",
         "24.0",
         "6012.0",
         "1227.0",
         "780.0",
         "358.0",
         "3.0043",
         "122100.0"
        ],
        [
         "10448",
         "-120.34",
         "38.25",
         "17.0",
         "5497.0",
         "1056.0",
         "997.0",
         "408.0",
         "2.9821",
         "111500.0"
        ],
        [
         "11300",
         "-121.15",
         "40.25",
         "14.0",
         "5156.0",
         "880.0",
         "616.0",
         "281.0",
         "3.3462",
         "145200.0"
        ],
        [
         "13726",
         "-122.0",
         "37.4",
         "17.0",
         "5121.0",
         "1017.0",
         "1470.0",
         "968.0",
         "2.9706",
         "81300.0"
        ],
        [
         "16854",
         "-123.49",
         "38.7",
         "9.0",
         "5409.0",
         "1019.0",
         "594.0",
         "327.0",
         "3.3125",
         "295400.0"
        ]
       ],
       "shape": {
        "columns": 9,
        "rows": 34
       }
      },
      "text/html": [
       "<div>\n",
       "<style scoped>\n",
       "    .dataframe tbody tr th:only-of-type {\n",
       "        vertical-align: middle;\n",
       "    }\n",
       "\n",
       "    .dataframe tbody tr th {\n",
       "        vertical-align: top;\n",
       "    }\n",
       "\n",
       "    .dataframe thead th {\n",
       "        text-align: right;\n",
       "    }\n",
       "</style>\n",
       "<table border=\"1\" class=\"dataframe\">\n",
       "  <thead>\n",
       "    <tr style=\"text-align: right;\">\n",
       "      <th></th>\n",
       "      <th>longitude</th>\n",
       "      <th>latitude</th>\n",
       "      <th>housing_median_age</th>\n",
       "      <th>total_rooms</th>\n",
       "      <th>total_bedrooms</th>\n",
       "      <th>population</th>\n",
       "      <th>households</th>\n",
       "      <th>median_income</th>\n",
       "      <th>median_house_value</th>\n",
       "    </tr>\n",
       "  </thead>\n",
       "  <tbody>\n",
       "    <tr>\n",
       "      <th>0</th>\n",
       "      <td>-114.31</td>\n",
       "      <td>34.19</td>\n",
       "      <td>15.0</td>\n",
       "      <td>5612.0</td>\n",
       "      <td>1283.0</td>\n",
       "      <td>1015.0</td>\n",
       "      <td>472.0</td>\n",
       "      <td>1.4936</td>\n",
       "      <td>66900.0</td>\n",
       "    </tr>\n",
       "    <tr>\n",
       "      <th>1</th>\n",
       "      <td>-114.47</td>\n",
       "      <td>34.40</td>\n",
       "      <td>19.0</td>\n",
       "      <td>7650.0</td>\n",
       "      <td>1901.0</td>\n",
       "      <td>1129.0</td>\n",
       "      <td>463.0</td>\n",
       "      <td>1.8200</td>\n",
       "      <td>80100.0</td>\n",
       "    </tr>\n",
       "    <tr>\n",
       "      <th>172</th>\n",
       "      <td>-116.26</td>\n",
       "      <td>33.65</td>\n",
       "      <td>3.0</td>\n",
       "      <td>7437.0</td>\n",
       "      <td>1222.0</td>\n",
       "      <td>574.0</td>\n",
       "      <td>302.0</td>\n",
       "      <td>10.2948</td>\n",
       "      <td>382400.0</td>\n",
       "    </tr>\n",
       "    <tr>\n",
       "      <th>193</th>\n",
       "      <td>-116.37</td>\n",
       "      <td>33.69</td>\n",
       "      <td>7.0</td>\n",
       "      <td>8806.0</td>\n",
       "      <td>1542.0</td>\n",
       "      <td>858.0</td>\n",
       "      <td>448.0</td>\n",
       "      <td>7.8005</td>\n",
       "      <td>318100.0</td>\n",
       "    </tr>\n",
       "    <tr>\n",
       "      <th>209</th>\n",
       "      <td>-116.42</td>\n",
       "      <td>33.79</td>\n",
       "      <td>12.0</td>\n",
       "      <td>7095.0</td>\n",
       "      <td>1260.0</td>\n",
       "      <td>1179.0</td>\n",
       "      <td>570.0</td>\n",
       "      <td>4.9444</td>\n",
       "      <td>285000.0</td>\n",
       "    </tr>\n",
       "    <tr>\n",
       "      <th>218</th>\n",
       "      <td>-116.44</td>\n",
       "      <td>33.93</td>\n",
       "      <td>17.0</td>\n",
       "      <td>5293.0</td>\n",
       "      <td>1266.0</td>\n",
       "      <td>1201.0</td>\n",
       "      <td>599.0</td>\n",
       "      <td>1.6849</td>\n",
       "      <td>88400.0</td>\n",
       "    </tr>\n",
       "    <tr>\n",
       "      <th>222</th>\n",
       "      <td>-116.45</td>\n",
       "      <td>33.78</td>\n",
       "      <td>16.0</td>\n",
       "      <td>5228.0</td>\n",
       "      <td>992.0</td>\n",
       "      <td>1177.0</td>\n",
       "      <td>639.0</td>\n",
       "      <td>3.0859</td>\n",
       "      <td>134600.0</td>\n",
       "    </tr>\n",
       "    <tr>\n",
       "      <th>235</th>\n",
       "      <td>-116.49</td>\n",
       "      <td>33.80</td>\n",
       "      <td>13.0</td>\n",
       "      <td>8789.0</td>\n",
       "      <td>1875.0</td>\n",
       "      <td>1274.0</td>\n",
       "      <td>688.0</td>\n",
       "      <td>3.7396</td>\n",
       "      <td>148900.0</td>\n",
       "    </tr>\n",
       "    <tr>\n",
       "      <th>258</th>\n",
       "      <td>-116.54</td>\n",
       "      <td>33.80</td>\n",
       "      <td>22.0</td>\n",
       "      <td>6050.0</td>\n",
       "      <td>1387.0</td>\n",
       "      <td>1432.0</td>\n",
       "      <td>890.0</td>\n",
       "      <td>2.2216</td>\n",
       "      <td>183900.0</td>\n",
       "    </tr>\n",
       "    <tr>\n",
       "      <th>284</th>\n",
       "      <td>-116.75</td>\n",
       "      <td>33.83</td>\n",
       "      <td>16.0</td>\n",
       "      <td>5277.0</td>\n",
       "      <td>1070.0</td>\n",
       "      <td>657.0</td>\n",
       "      <td>276.0</td>\n",
       "      <td>3.3333</td>\n",
       "      <td>143400.0</td>\n",
       "    </tr>\n",
       "    <tr>\n",
       "      <th>299</th>\n",
       "      <td>-116.82</td>\n",
       "      <td>34.24</td>\n",
       "      <td>11.0</td>\n",
       "      <td>5799.0</td>\n",
       "      <td>1527.0</td>\n",
       "      <td>713.0</td>\n",
       "      <td>262.0</td>\n",
       "      <td>2.5147</td>\n",
       "      <td>84700.0</td>\n",
       "    </tr>\n",
       "    <tr>\n",
       "      <th>300</th>\n",
       "      <td>-116.83</td>\n",
       "      <td>34.25</td>\n",
       "      <td>15.0</td>\n",
       "      <td>8948.0</td>\n",
       "      <td>1985.0</td>\n",
       "      <td>1316.0</td>\n",
       "      <td>514.0</td>\n",
       "      <td>2.7375</td>\n",
       "      <td>90800.0</td>\n",
       "    </tr>\n",
       "    <tr>\n",
       "      <th>306</th>\n",
       "      <td>-116.85</td>\n",
       "      <td>34.25</td>\n",
       "      <td>5.0</td>\n",
       "      <td>5806.0</td>\n",
       "      <td>1030.0</td>\n",
       "      <td>569.0</td>\n",
       "      <td>219.0</td>\n",
       "      <td>4.0132</td>\n",
       "      <td>163100.0</td>\n",
       "    </tr>\n",
       "    <tr>\n",
       "      <th>389</th>\n",
       "      <td>-116.94</td>\n",
       "      <td>34.24</td>\n",
       "      <td>27.0</td>\n",
       "      <td>12342.0</td>\n",
       "      <td>2630.0</td>\n",
       "      <td>1300.0</td>\n",
       "      <td>566.0</td>\n",
       "      <td>1.9980</td>\n",
       "      <td>153500.0</td>\n",
       "    </tr>\n",
       "    <tr>\n",
       "      <th>490</th>\n",
       "      <td>-116.99</td>\n",
       "      <td>34.30</td>\n",
       "      <td>29.0</td>\n",
       "      <td>5055.0</td>\n",
       "      <td>1036.0</td>\n",
       "      <td>410.0</td>\n",
       "      <td>191.0</td>\n",
       "      <td>3.5104</td>\n",
       "      <td>157100.0</td>\n",
       "    </tr>\n",
       "    <tr>\n",
       "      <th>1316</th>\n",
       "      <td>-117.16</td>\n",
       "      <td>34.26</td>\n",
       "      <td>27.0</td>\n",
       "      <td>9285.0</td>\n",
       "      <td>1621.0</td>\n",
       "      <td>1135.0</td>\n",
       "      <td>410.0</td>\n",
       "      <td>2.5446</td>\n",
       "      <td>135200.0</td>\n",
       "    </tr>\n",
       "    <tr>\n",
       "      <th>1390</th>\n",
       "      <td>-117.17</td>\n",
       "      <td>32.68</td>\n",
       "      <td>16.0</td>\n",
       "      <td>5895.0</td>\n",
       "      <td>1424.0</td>\n",
       "      <td>873.0</td>\n",
       "      <td>522.0</td>\n",
       "      <td>7.3669</td>\n",
       "      <td>187500.0</td>\n",
       "    </tr>\n",
       "    <tr>\n",
       "      <th>1432</th>\n",
       "      <td>-117.19</td>\n",
       "      <td>34.27</td>\n",
       "      <td>16.0</td>\n",
       "      <td>7961.0</td>\n",
       "      <td>1147.0</td>\n",
       "      <td>879.0</td>\n",
       "      <td>280.0</td>\n",
       "      <td>5.2146</td>\n",
       "      <td>255200.0</td>\n",
       "    </tr>\n",
       "    <tr>\n",
       "      <th>1475</th>\n",
       "      <td>-117.20</td>\n",
       "      <td>34.26</td>\n",
       "      <td>17.0</td>\n",
       "      <td>9419.0</td>\n",
       "      <td>1455.0</td>\n",
       "      <td>1382.0</td>\n",
       "      <td>459.0</td>\n",
       "      <td>6.2233</td>\n",
       "      <td>230900.0</td>\n",
       "    </tr>\n",
       "    <tr>\n",
       "      <th>1476</th>\n",
       "      <td>-117.20</td>\n",
       "      <td>34.24</td>\n",
       "      <td>22.0</td>\n",
       "      <td>8106.0</td>\n",
       "      <td>1665.0</td>\n",
       "      <td>1062.0</td>\n",
       "      <td>423.0</td>\n",
       "      <td>3.0434</td>\n",
       "      <td>137200.0</td>\n",
       "    </tr>\n",
       "    <tr>\n",
       "      <th>1819</th>\n",
       "      <td>-117.27</td>\n",
       "      <td>34.23</td>\n",
       "      <td>26.0</td>\n",
       "      <td>6339.0</td>\n",
       "      <td>1244.0</td>\n",
       "      <td>1177.0</td>\n",
       "      <td>466.0</td>\n",
       "      <td>3.7708</td>\n",
       "      <td>110400.0</td>\n",
       "    </tr>\n",
       "    <tr>\n",
       "      <th>2205</th>\n",
       "      <td>-117.38</td>\n",
       "      <td>33.14</td>\n",
       "      <td>14.0</td>\n",
       "      <td>5039.0</td>\n",
       "      <td>1373.0</td>\n",
       "      <td>1298.0</td>\n",
       "      <td>696.0</td>\n",
       "      <td>3.2090</td>\n",
       "      <td>313300.0</td>\n",
       "    </tr>\n",
       "    <tr>\n",
       "      <th>2771</th>\n",
       "      <td>-117.70</td>\n",
       "      <td>33.51</td>\n",
       "      <td>2.0</td>\n",
       "      <td>5261.0</td>\n",
       "      <td>763.0</td>\n",
       "      <td>1460.0</td>\n",
       "      <td>599.0</td>\n",
       "      <td>6.8279</td>\n",
       "      <td>279000.0</td>\n",
       "    </tr>\n",
       "    <tr>\n",
       "      <th>9069</th>\n",
       "      <td>-118.99</td>\n",
       "      <td>37.63</td>\n",
       "      <td>10.0</td>\n",
       "      <td>7744.0</td>\n",
       "      <td>1573.0</td>\n",
       "      <td>483.0</td>\n",
       "      <td>224.0</td>\n",
       "      <td>3.2917</td>\n",
       "      <td>231800.0</td>\n",
       "    </tr>\n",
       "    <tr>\n",
       "      <th>9426</th>\n",
       "      <td>-119.23</td>\n",
       "      <td>34.19</td>\n",
       "      <td>16.0</td>\n",
       "      <td>5297.0</td>\n",
       "      <td>810.0</td>\n",
       "      <td>1489.0</td>\n",
       "      <td>667.0</td>\n",
       "      <td>6.4522</td>\n",
       "      <td>500001.0</td>\n",
       "    </tr>\n",
       "    <tr>\n",
       "      <th>10261</th>\n",
       "      <td>-120.00</td>\n",
       "      <td>38.93</td>\n",
       "      <td>17.0</td>\n",
       "      <td>8005.0</td>\n",
       "      <td>1382.0</td>\n",
       "      <td>999.0</td>\n",
       "      <td>383.0</td>\n",
       "      <td>3.9722</td>\n",
       "      <td>313400.0</td>\n",
       "    </tr>\n",
       "    <tr>\n",
       "      <th>10284</th>\n",
       "      <td>-120.03</td>\n",
       "      <td>38.19</td>\n",
       "      <td>26.0</td>\n",
       "      <td>7005.0</td>\n",
       "      <td>1358.0</td>\n",
       "      <td>416.0</td>\n",
       "      <td>189.0</td>\n",
       "      <td>2.1250</td>\n",
       "      <td>132500.0</td>\n",
       "    </tr>\n",
       "    <tr>\n",
       "      <th>10377</th>\n",
       "      <td>-120.18</td>\n",
       "      <td>39.28</td>\n",
       "      <td>14.0</td>\n",
       "      <td>10098.0</td>\n",
       "      <td>1545.0</td>\n",
       "      <td>701.0</td>\n",
       "      <td>254.0</td>\n",
       "      <td>4.0819</td>\n",
       "      <td>141300.0</td>\n",
       "    </tr>\n",
       "    <tr>\n",
       "      <th>10398</th>\n",
       "      <td>-120.22</td>\n",
       "      <td>39.20</td>\n",
       "      <td>22.0</td>\n",
       "      <td>8259.0</td>\n",
       "      <td>1409.0</td>\n",
       "      <td>845.0</td>\n",
       "      <td>353.0</td>\n",
       "      <td>3.3699</td>\n",
       "      <td>244000.0</td>\n",
       "    </tr>\n",
       "    <tr>\n",
       "      <th>10415</th>\n",
       "      <td>-120.26</td>\n",
       "      <td>39.32</td>\n",
       "      <td>24.0</td>\n",
       "      <td>6012.0</td>\n",
       "      <td>1227.0</td>\n",
       "      <td>780.0</td>\n",
       "      <td>358.0</td>\n",
       "      <td>3.0043</td>\n",
       "      <td>122100.0</td>\n",
       "    </tr>\n",
       "    <tr>\n",
       "      <th>10448</th>\n",
       "      <td>-120.34</td>\n",
       "      <td>38.25</td>\n",
       "      <td>17.0</td>\n",
       "      <td>5497.0</td>\n",
       "      <td>1056.0</td>\n",
       "      <td>997.0</td>\n",
       "      <td>408.0</td>\n",
       "      <td>2.9821</td>\n",
       "      <td>111500.0</td>\n",
       "    </tr>\n",
       "    <tr>\n",
       "      <th>11300</th>\n",
       "      <td>-121.15</td>\n",
       "      <td>40.25</td>\n",
       "      <td>14.0</td>\n",
       "      <td>5156.0</td>\n",
       "      <td>880.0</td>\n",
       "      <td>616.0</td>\n",
       "      <td>281.0</td>\n",
       "      <td>3.3462</td>\n",
       "      <td>145200.0</td>\n",
       "    </tr>\n",
       "    <tr>\n",
       "      <th>13726</th>\n",
       "      <td>-122.00</td>\n",
       "      <td>37.40</td>\n",
       "      <td>17.0</td>\n",
       "      <td>5121.0</td>\n",
       "      <td>1017.0</td>\n",
       "      <td>1470.0</td>\n",
       "      <td>968.0</td>\n",
       "      <td>2.9706</td>\n",
       "      <td>81300.0</td>\n",
       "    </tr>\n",
       "    <tr>\n",
       "      <th>16854</th>\n",
       "      <td>-123.49</td>\n",
       "      <td>38.70</td>\n",
       "      <td>9.0</td>\n",
       "      <td>5409.0</td>\n",
       "      <td>1019.0</td>\n",
       "      <td>594.0</td>\n",
       "      <td>327.0</td>\n",
       "      <td>3.3125</td>\n",
       "      <td>295400.0</td>\n",
       "    </tr>\n",
       "  </tbody>\n",
       "</table>\n",
       "</div>"
      ],
      "text/plain": [
       "       longitude  latitude  housing_median_age  total_rooms  total_bedrooms  \\\n",
       "0        -114.31     34.19                15.0       5612.0          1283.0   \n",
       "1        -114.47     34.40                19.0       7650.0          1901.0   \n",
       "172      -116.26     33.65                 3.0       7437.0          1222.0   \n",
       "193      -116.37     33.69                 7.0       8806.0          1542.0   \n",
       "209      -116.42     33.79                12.0       7095.0          1260.0   \n",
       "218      -116.44     33.93                17.0       5293.0          1266.0   \n",
       "222      -116.45     33.78                16.0       5228.0           992.0   \n",
       "235      -116.49     33.80                13.0       8789.0          1875.0   \n",
       "258      -116.54     33.80                22.0       6050.0          1387.0   \n",
       "284      -116.75     33.83                16.0       5277.0          1070.0   \n",
       "299      -116.82     34.24                11.0       5799.0          1527.0   \n",
       "300      -116.83     34.25                15.0       8948.0          1985.0   \n",
       "306      -116.85     34.25                 5.0       5806.0          1030.0   \n",
       "389      -116.94     34.24                27.0      12342.0          2630.0   \n",
       "490      -116.99     34.30                29.0       5055.0          1036.0   \n",
       "1316     -117.16     34.26                27.0       9285.0          1621.0   \n",
       "1390     -117.17     32.68                16.0       5895.0          1424.0   \n",
       "1432     -117.19     34.27                16.0       7961.0          1147.0   \n",
       "1475     -117.20     34.26                17.0       9419.0          1455.0   \n",
       "1476     -117.20     34.24                22.0       8106.0          1665.0   \n",
       "1819     -117.27     34.23                26.0       6339.0          1244.0   \n",
       "2205     -117.38     33.14                14.0       5039.0          1373.0   \n",
       "2771     -117.70     33.51                 2.0       5261.0           763.0   \n",
       "9069     -118.99     37.63                10.0       7744.0          1573.0   \n",
       "9426     -119.23     34.19                16.0       5297.0           810.0   \n",
       "10261    -120.00     38.93                17.0       8005.0          1382.0   \n",
       "10284    -120.03     38.19                26.0       7005.0          1358.0   \n",
       "10377    -120.18     39.28                14.0      10098.0          1545.0   \n",
       "10398    -120.22     39.20                22.0       8259.0          1409.0   \n",
       "10415    -120.26     39.32                24.0       6012.0          1227.0   \n",
       "10448    -120.34     38.25                17.0       5497.0          1056.0   \n",
       "11300    -121.15     40.25                14.0       5156.0           880.0   \n",
       "13726    -122.00     37.40                17.0       5121.0          1017.0   \n",
       "16854    -123.49     38.70                 9.0       5409.0          1019.0   \n",
       "\n",
       "       population  households  median_income  median_house_value  \n",
       "0          1015.0       472.0         1.4936             66900.0  \n",
       "1          1129.0       463.0         1.8200             80100.0  \n",
       "172         574.0       302.0        10.2948            382400.0  \n",
       "193         858.0       448.0         7.8005            318100.0  \n",
       "209        1179.0       570.0         4.9444            285000.0  \n",
       "218        1201.0       599.0         1.6849             88400.0  \n",
       "222        1177.0       639.0         3.0859            134600.0  \n",
       "235        1274.0       688.0         3.7396            148900.0  \n",
       "258        1432.0       890.0         2.2216            183900.0  \n",
       "284         657.0       276.0         3.3333            143400.0  \n",
       "299         713.0       262.0         2.5147             84700.0  \n",
       "300        1316.0       514.0         2.7375             90800.0  \n",
       "306         569.0       219.0         4.0132            163100.0  \n",
       "389        1300.0       566.0         1.9980            153500.0  \n",
       "490         410.0       191.0         3.5104            157100.0  \n",
       "1316       1135.0       410.0         2.5446            135200.0  \n",
       "1390        873.0       522.0         7.3669            187500.0  \n",
       "1432        879.0       280.0         5.2146            255200.0  \n",
       "1475       1382.0       459.0         6.2233            230900.0  \n",
       "1476       1062.0       423.0         3.0434            137200.0  \n",
       "1819       1177.0       466.0         3.7708            110400.0  \n",
       "2205       1298.0       696.0         3.2090            313300.0  \n",
       "2771       1460.0       599.0         6.8279            279000.0  \n",
       "9069        483.0       224.0         3.2917            231800.0  \n",
       "9426       1489.0       667.0         6.4522            500001.0  \n",
       "10261       999.0       383.0         3.9722            313400.0  \n",
       "10284       416.0       189.0         2.1250            132500.0  \n",
       "10377       701.0       254.0         4.0819            141300.0  \n",
       "10398       845.0       353.0         3.3699            244000.0  \n",
       "10415       780.0       358.0         3.0043            122100.0  \n",
       "10448       997.0       408.0         2.9821            111500.0  \n",
       "11300       616.0       281.0         3.3462            145200.0  \n",
       "13726      1470.0       968.0         2.9706             81300.0  \n",
       "16854       594.0       327.0         3.3125            295400.0  "
      ]
     },
     "execution_count": 15,
     "metadata": {},
     "output_type": "execute_result"
    }
   ],
   "source": [
    "q = housing_df[housing_df[\"total_rooms\"] > 5000]\n",
    "q = q[housing_df[\"population\"] < 1500]\n",
    "q"
   ]
  },
  {
   "cell_type": "markdown",
   "metadata": {},
   "source": [
    "Q3 Positional Selection (.iloc): Select the rows from position 100 to 105 (inclusive) and the columns from position 3 to 5 (inclusive)"
   ]
  },
  {
   "cell_type": "code",
   "execution_count": 17,
   "metadata": {},
   "outputs": [
    {
     "data": {
      "application/vnd.microsoft.datawrangler.viewer.v0+json": {
       "columns": [
        {
         "name": "index",
         "rawType": "int64",
         "type": "integer"
        },
        {
         "name": "total_rooms",
         "rawType": "float64",
         "type": "float"
        },
        {
         "name": "total_bedrooms",
         "rawType": "float64",
         "type": "float"
        },
        {
         "name": "population",
         "rawType": "float64",
         "type": "float"
        }
       ],
       "ref": "368792b1-9300-4636-af80-bfcfbdee4bbf",
       "rows": [
        [
         "100",
         "2183.0",
         "307.0",
         "1000.0"
        ],
        [
         "101",
         "935.0",
         "177.0",
         "649.0"
        ],
        [
         "102",
         "709.0",
         "187.0",
         "390.0"
        ],
        [
         "103",
         "1629.0",
         "317.0",
         "1005.0"
        ],
        [
         "104",
         "1121.0",
         "244.0",
         "766.0"
        ],
        [
         "105",
         "1009.0",
         "231.0",
         "745.0"
        ]
       ],
       "shape": {
        "columns": 3,
        "rows": 6
       }
      },
      "text/html": [
       "<div>\n",
       "<style scoped>\n",
       "    .dataframe tbody tr th:only-of-type {\n",
       "        vertical-align: middle;\n",
       "    }\n",
       "\n",
       "    .dataframe tbody tr th {\n",
       "        vertical-align: top;\n",
       "    }\n",
       "\n",
       "    .dataframe thead th {\n",
       "        text-align: right;\n",
       "    }\n",
       "</style>\n",
       "<table border=\"1\" class=\"dataframe\">\n",
       "  <thead>\n",
       "    <tr style=\"text-align: right;\">\n",
       "      <th></th>\n",
       "      <th>total_rooms</th>\n",
       "      <th>total_bedrooms</th>\n",
       "      <th>population</th>\n",
       "    </tr>\n",
       "  </thead>\n",
       "  <tbody>\n",
       "    <tr>\n",
       "      <th>100</th>\n",
       "      <td>2183.0</td>\n",
       "      <td>307.0</td>\n",
       "      <td>1000.0</td>\n",
       "    </tr>\n",
       "    <tr>\n",
       "      <th>101</th>\n",
       "      <td>935.0</td>\n",
       "      <td>177.0</td>\n",
       "      <td>649.0</td>\n",
       "    </tr>\n",
       "    <tr>\n",
       "      <th>102</th>\n",
       "      <td>709.0</td>\n",
       "      <td>187.0</td>\n",
       "      <td>390.0</td>\n",
       "    </tr>\n",
       "    <tr>\n",
       "      <th>103</th>\n",
       "      <td>1629.0</td>\n",
       "      <td>317.0</td>\n",
       "      <td>1005.0</td>\n",
       "    </tr>\n",
       "    <tr>\n",
       "      <th>104</th>\n",
       "      <td>1121.0</td>\n",
       "      <td>244.0</td>\n",
       "      <td>766.0</td>\n",
       "    </tr>\n",
       "    <tr>\n",
       "      <th>105</th>\n",
       "      <td>1009.0</td>\n",
       "      <td>231.0</td>\n",
       "      <td>745.0</td>\n",
       "    </tr>\n",
       "  </tbody>\n",
       "</table>\n",
       "</div>"
      ],
      "text/plain": [
       "     total_rooms  total_bedrooms  population\n",
       "100       2183.0           307.0      1000.0\n",
       "101        935.0           177.0       649.0\n",
       "102        709.0           187.0       390.0\n",
       "103       1629.0           317.0      1005.0\n",
       "104       1121.0           244.0       766.0\n",
       "105       1009.0           231.0       745.0"
      ]
     },
     "execution_count": 17,
     "metadata": {},
     "output_type": "execute_result"
    }
   ],
   "source": [
    "d = housing_df.iloc[100:106,3:6]\n",
    "d"
   ]
  },
  {
   "cell_type": "markdown",
   "metadata": {},
   "source": [
    "Q4 Label-based Selection (.loc): Find the median_income for the houses at index positions 8 and 13. (Note: Since the default index is numerical, .loc here will behave similarly to .iloc for single rows, but it's good practice to use it when thinking about labels)."
   ]
  },
  {
   "cell_type": "code",
   "execution_count": 19,
   "metadata": {},
   "outputs": [
    {
     "data": {
      "application/vnd.microsoft.datawrangler.viewer.v0+json": {
       "columns": [
        {
         "name": "index",
         "rawType": "int64",
         "type": "integer"
        },
        {
         "name": "median_income",
         "rawType": "float64",
         "type": "float"
        }
       ],
       "ref": "4b84618f-2043-4fe7-8b8e-614f8064a541",
       "rows": [
        [
         "8",
         "2.1782"
        ],
        [
         "13",
         "3.212"
        ]
       ],
       "shape": {
        "columns": 1,
        "rows": 2
       }
      },
      "text/plain": [
       "8     2.1782\n",
       "13    3.2120\n",
       "Name: median_income, dtype: float64"
      ]
     },
     "execution_count": 19,
     "metadata": {},
     "output_type": "execute_result"
    }
   ],
   "source": [
    "e = housing_df.loc[[8,13],\"median_income\"]\n",
    "e"
   ]
  },
  {
   "cell_type": "markdown",
   "metadata": {},
   "source": [
    "Q5 Find the Richest Household: What is the highest median_income in the dataset? Find the entire row of data for the household that has this highest income. (Hint: You can use the .idxmax() method)."
   ]
  },
  {
   "cell_type": "code",
   "execution_count": 23,
   "metadata": {},
   "outputs": [
    {
     "data": {
      "application/vnd.microsoft.datawrangler.viewer.v0+json": {
       "columns": [
        {
         "name": "index",
         "rawType": "object",
         "type": "string"
        },
        {
         "name": "1625",
         "rawType": "float64",
         "type": "float"
        }
       ],
       "ref": "a8a6694e-2452-418a-aa9e-271b4c655795",
       "rows": [
        [
         "longitude",
         "-117.23"
        ],
        [
         "latitude",
         "32.99"
        ],
        [
         "housing_median_age",
         "17.0"
        ],
        [
         "total_rooms",
         "2718.0"
        ],
        [
         "total_bedrooms",
         "326.0"
        ],
        [
         "population",
         "1011.0"
        ],
        [
         "households",
         "319.0"
        ],
        [
         "median_income",
         "15.0001"
        ],
        [
         "median_house_value",
         "500001.0"
        ]
       ],
       "shape": {
        "columns": 1,
        "rows": 9
       }
      },
      "text/plain": [
       "longitude               -117.2300\n",
       "latitude                  32.9900\n",
       "housing_median_age        17.0000\n",
       "total_rooms             2718.0000\n",
       "total_bedrooms           326.0000\n",
       "population              1011.0000\n",
       "households               319.0000\n",
       "median_income             15.0001\n",
       "median_house_value    500001.0000\n",
       "Name: 1625, dtype: float64"
      ]
     },
     "execution_count": 23,
     "metadata": {},
     "output_type": "execute_result"
    }
   ],
   "source": [
    "a = housing_df.idxmax()\n",
    "d = housing_df.loc[a[\"median_income\"]]\n",
    "d"
   ]
  },
  {
   "cell_type": "markdown",
   "metadata": {},
   "source": [
    "## Level 3: Manipulation & Aggregation (Data Analysis)"
   ]
  },
  {
   "cell_type": "markdown",
   "metadata": {},
   "source": [
    "Q1 Create a New Column: Create a new column called avg_rooms_per_person. This should be calculated by dividing the total_rooms column by the population column."
   ]
  },
  {
   "cell_type": "code",
   "execution_count": 24,
   "metadata": {},
   "outputs": [
    {
     "data": {
      "application/vnd.microsoft.datawrangler.viewer.v0+json": {
       "columns": [
        {
         "name": "index",
         "rawType": "int64",
         "type": "integer"
        },
        {
         "name": "longitude",
         "rawType": "float64",
         "type": "float"
        },
        {
         "name": "latitude",
         "rawType": "float64",
         "type": "float"
        },
        {
         "name": "housing_median_age",
         "rawType": "float64",
         "type": "float"
        },
        {
         "name": "total_rooms",
         "rawType": "float64",
         "type": "float"
        },
        {
         "name": "total_bedrooms",
         "rawType": "float64",
         "type": "float"
        },
        {
         "name": "population",
         "rawType": "float64",
         "type": "float"
        },
        {
         "name": "households",
         "rawType": "float64",
         "type": "float"
        },
        {
         "name": "median_income",
         "rawType": "float64",
         "type": "float"
        },
        {
         "name": "median_house_value",
         "rawType": "float64",
         "type": "float"
        },
        {
         "name": "avg_rooms_per_person",
         "rawType": "float64",
         "type": "float"
        }
       ],
       "ref": "ec49b56c-0bbd-4e6d-8e1e-fb80f1610ba0",
       "rows": [
        [
         "0",
         "-114.31",
         "34.19",
         "15.0",
         "5612.0",
         "1283.0",
         "1015.0",
         "472.0",
         "1.4936",
         "66900.0",
         "5.529064039408867"
        ],
        [
         "1",
         "-114.47",
         "34.4",
         "19.0",
         "7650.0",
         "1901.0",
         "1129.0",
         "463.0",
         "1.82",
         "80100.0",
         "6.775907883082374"
        ],
        [
         "2",
         "-114.56",
         "33.69",
         "17.0",
         "720.0",
         "174.0",
         "333.0",
         "117.0",
         "1.6509",
         "85700.0",
         "2.1621621621621623"
        ],
        [
         "3",
         "-114.57",
         "33.64",
         "14.0",
         "1501.0",
         "337.0",
         "515.0",
         "226.0",
         "3.1917",
         "73400.0",
         "2.9145631067961166"
        ],
        [
         "4",
         "-114.57",
         "33.57",
         "20.0",
         "1454.0",
         "326.0",
         "624.0",
         "262.0",
         "1.925",
         "65500.0",
         "2.3301282051282053"
        ],
        [
         "5",
         "-114.58",
         "33.63",
         "29.0",
         "1387.0",
         "236.0",
         "671.0",
         "239.0",
         "3.3438",
         "74000.0",
         "2.067064083457526"
        ],
        [
         "6",
         "-114.58",
         "33.61",
         "25.0",
         "2907.0",
         "680.0",
         "1841.0",
         "633.0",
         "2.6768",
         "82400.0",
         "1.579033134166214"
        ],
        [
         "7",
         "-114.59",
         "34.83",
         "41.0",
         "812.0",
         "168.0",
         "375.0",
         "158.0",
         "1.7083",
         "48500.0",
         "2.1653333333333333"
        ],
        [
         "8",
         "-114.59",
         "33.61",
         "34.0",
         "4789.0",
         "1175.0",
         "3134.0",
         "1056.0",
         "2.1782",
         "58400.0",
         "1.5280791320995533"
        ],
        [
         "9",
         "-114.6",
         "34.83",
         "46.0",
         "1497.0",
         "309.0",
         "787.0",
         "271.0",
         "2.1908",
         "48100.0",
         "1.9021601016518423"
        ],
        [
         "10",
         "-114.6",
         "33.62",
         "16.0",
         "3741.0",
         "801.0",
         "2434.0",
         "824.0",
         "2.6797",
         "86500.0",
         "1.5369761709120788"
        ],
        [
         "11",
         "-114.6",
         "33.6",
         "21.0",
         "1988.0",
         "483.0",
         "1182.0",
         "437.0",
         "1.625",
         "62000.0",
         "1.6818950930626058"
        ],
        [
         "12",
         "-114.61",
         "34.84",
         "48.0",
         "1291.0",
         "248.0",
         "580.0",
         "211.0",
         "2.1571",
         "48600.0",
         "2.225862068965517"
        ],
        [
         "13",
         "-114.61",
         "34.83",
         "31.0",
         "2478.0",
         "464.0",
         "1346.0",
         "479.0",
         "3.212",
         "70400.0",
         "1.8410104011887072"
        ],
        [
         "14",
         "-114.63",
         "32.76",
         "15.0",
         "1448.0",
         "378.0",
         "949.0",
         "300.0",
         "0.8585",
         "45000.0",
         "1.5258166491043204"
        ],
        [
         "15",
         "-114.65",
         "34.89",
         "17.0",
         "2556.0",
         "587.0",
         "1005.0",
         "401.0",
         "1.6991",
         "69100.0",
         "2.5432835820895523"
        ],
        [
         "16",
         "-114.65",
         "33.6",
         "28.0",
         "1678.0",
         "322.0",
         "666.0",
         "256.0",
         "2.9653",
         "94900.0",
         "2.5195195195195197"
        ],
        [
         "17",
         "-114.65",
         "32.79",
         "21.0",
         "44.0",
         "33.0",
         "64.0",
         "27.0",
         "0.8571",
         "25000.0",
         "0.6875"
        ],
        [
         "18",
         "-114.66",
         "32.74",
         "17.0",
         "1388.0",
         "386.0",
         "775.0",
         "320.0",
         "1.2049",
         "44000.0",
         "1.790967741935484"
        ],
        [
         "19",
         "-114.67",
         "33.92",
         "17.0",
         "97.0",
         "24.0",
         "29.0",
         "15.0",
         "1.2656",
         "27500.0",
         "3.3448275862068964"
        ],
        [
         "20",
         "-114.68",
         "33.49",
         "20.0",
         "1491.0",
         "360.0",
         "1135.0",
         "303.0",
         "1.6395",
         "44400.0",
         "1.3136563876651983"
        ],
        [
         "21",
         "-114.73",
         "33.43",
         "24.0",
         "796.0",
         "243.0",
         "227.0",
         "139.0",
         "0.8964",
         "59200.0",
         "3.5066079295154187"
        ],
        [
         "22",
         "-114.94",
         "34.55",
         "20.0",
         "350.0",
         "95.0",
         "119.0",
         "58.0",
         "1.625",
         "50000.0",
         "2.9411764705882355"
        ],
        [
         "23",
         "-114.98",
         "33.82",
         "15.0",
         "644.0",
         "129.0",
         "137.0",
         "52.0",
         "3.2097",
         "71300.0",
         "4.700729927007299"
        ],
        [
         "24",
         "-115.22",
         "33.54",
         "18.0",
         "1706.0",
         "397.0",
         "3424.0",
         "283.0",
         "1.625",
         "53500.0",
         "0.4982476635514019"
        ],
        [
         "25",
         "-115.32",
         "32.82",
         "34.0",
         "591.0",
         "139.0",
         "327.0",
         "89.0",
         "3.6528",
         "100000.0",
         "1.8073394495412844"
        ],
        [
         "26",
         "-115.37",
         "32.82",
         "30.0",
         "1602.0",
         "322.0",
         "1130.0",
         "335.0",
         "3.5735",
         "71100.0",
         "1.4176991150442477"
        ],
        [
         "27",
         "-115.37",
         "32.82",
         "14.0",
         "1276.0",
         "270.0",
         "867.0",
         "261.0",
         "1.9375",
         "80900.0",
         "1.4717416378316033"
        ],
        [
         "28",
         "-115.37",
         "32.81",
         "32.0",
         "741.0",
         "191.0",
         "623.0",
         "169.0",
         "1.7604",
         "68600.0",
         "1.189406099518459"
        ],
        [
         "29",
         "-115.37",
         "32.81",
         "23.0",
         "1458.0",
         "294.0",
         "866.0",
         "275.0",
         "2.3594",
         "74300.0",
         "1.6836027713625865"
        ],
        [
         "30",
         "-115.38",
         "32.82",
         "38.0",
         "1892.0",
         "394.0",
         "1175.0",
         "374.0",
         "1.9939",
         "65800.0",
         "1.6102127659574468"
        ],
        [
         "31",
         "-115.38",
         "32.81",
         "35.0",
         "1263.0",
         "262.0",
         "950.0",
         "241.0",
         "1.8958",
         "67500.0",
         "1.3294736842105264"
        ],
        [
         "32",
         "-115.39",
         "32.76",
         "16.0",
         "1136.0",
         "196.0",
         "481.0",
         "185.0",
         "6.2558",
         "146300.0",
         "2.361746361746362"
        ],
        [
         "33",
         "-115.4",
         "32.86",
         "19.0",
         "1087.0",
         "171.0",
         "649.0",
         "173.0",
         "3.3182",
         "113800.0",
         "1.674884437596302"
        ],
        [
         "34",
         "-115.4",
         "32.7",
         "19.0",
         "583.0",
         "113.0",
         "531.0",
         "134.0",
         "1.6838",
         "95800.0",
         "1.0979284369114877"
        ],
        [
         "35",
         "-115.41",
         "32.99",
         "29.0",
         "1141.0",
         "220.0",
         "684.0",
         "194.0",
         "3.4038",
         "107800.0",
         "1.6681286549707601"
        ],
        [
         "36",
         "-115.46",
         "33.19",
         "33.0",
         "1234.0",
         "373.0",
         "777.0",
         "298.0",
         "1.0",
         "40000.0",
         "1.5881595881595882"
        ],
        [
         "37",
         "-115.48",
         "32.8",
         "21.0",
         "1260.0",
         "246.0",
         "805.0",
         "239.0",
         "2.6172",
         "88500.0",
         "1.565217391304348"
        ],
        [
         "38",
         "-115.48",
         "32.68",
         "15.0",
         "3414.0",
         "666.0",
         "2097.0",
         "622.0",
         "2.3319",
         "91200.0",
         "1.6280400572246065"
        ],
        [
         "39",
         "-115.49",
         "32.87",
         "19.0",
         "541.0",
         "104.0",
         "457.0",
         "106.0",
         "3.3583",
         "102800.0",
         "1.1838074398249452"
        ],
        [
         "40",
         "-115.49",
         "32.69",
         "17.0",
         "1960.0",
         "389.0",
         "1691.0",
         "356.0",
         "1.899",
         "64000.0",
         "1.1590774689532821"
        ],
        [
         "41",
         "-115.49",
         "32.67",
         "29.0",
         "1523.0",
         "440.0",
         "1302.0",
         "393.0",
         "1.1311",
         "84700.0",
         "1.1697388632872503"
        ],
        [
         "42",
         "-115.49",
         "32.67",
         "25.0",
         "2322.0",
         "573.0",
         "2185.0",
         "602.0",
         "1.375",
         "70100.0",
         "1.062700228832952"
        ],
        [
         "43",
         "-115.5",
         "32.75",
         "13.0",
         "330.0",
         "72.0",
         "822.0",
         "64.0",
         "3.4107",
         "142500.0",
         "0.40145985401459855"
        ],
        [
         "44",
         "-115.5",
         "32.68",
         "18.0",
         "3631.0",
         "913.0",
         "3565.0",
         "924.0",
         "1.5931",
         "88400.0",
         "1.0185133239831696"
        ],
        [
         "45",
         "-115.5",
         "32.67",
         "35.0",
         "2159.0",
         "492.0",
         "1694.0",
         "475.0",
         "2.1776",
         "75500.0",
         "1.2744982290436835"
        ],
        [
         "46",
         "-115.51",
         "33.24",
         "32.0",
         "1995.0",
         "523.0",
         "1069.0",
         "410.0",
         "1.6552",
         "43300.0",
         "1.8662301216089803"
        ],
        [
         "47",
         "-115.51",
         "33.12",
         "21.0",
         "1024.0",
         "218.0",
         "890.0",
         "232.0",
         "2.101",
         "46700.0",
         "1.150561797752809"
        ],
        [
         "48",
         "-115.51",
         "32.99",
         "20.0",
         "1402.0",
         "287.0",
         "1104.0",
         "317.0",
         "1.9088",
         "63700.0",
         "1.269927536231884"
        ],
        [
         "49",
         "-115.51",
         "32.68",
         "11.0",
         "2872.0",
         "610.0",
         "2644.0",
         "581.0",
         "2.625",
         "72700.0",
         "1.086232980332829"
        ]
       ],
       "shape": {
        "columns": 10,
        "rows": 17000
       }
      },
      "text/html": [
       "<div>\n",
       "<style scoped>\n",
       "    .dataframe tbody tr th:only-of-type {\n",
       "        vertical-align: middle;\n",
       "    }\n",
       "\n",
       "    .dataframe tbody tr th {\n",
       "        vertical-align: top;\n",
       "    }\n",
       "\n",
       "    .dataframe thead th {\n",
       "        text-align: right;\n",
       "    }\n",
       "</style>\n",
       "<table border=\"1\" class=\"dataframe\">\n",
       "  <thead>\n",
       "    <tr style=\"text-align: right;\">\n",
       "      <th></th>\n",
       "      <th>longitude</th>\n",
       "      <th>latitude</th>\n",
       "      <th>housing_median_age</th>\n",
       "      <th>total_rooms</th>\n",
       "      <th>total_bedrooms</th>\n",
       "      <th>population</th>\n",
       "      <th>households</th>\n",
       "      <th>median_income</th>\n",
       "      <th>median_house_value</th>\n",
       "      <th>avg_rooms_per_person</th>\n",
       "    </tr>\n",
       "  </thead>\n",
       "  <tbody>\n",
       "    <tr>\n",
       "      <th>0</th>\n",
       "      <td>-114.31</td>\n",
       "      <td>34.19</td>\n",
       "      <td>15.0</td>\n",
       "      <td>5612.0</td>\n",
       "      <td>1283.0</td>\n",
       "      <td>1015.0</td>\n",
       "      <td>472.0</td>\n",
       "      <td>1.4936</td>\n",
       "      <td>66900.0</td>\n",
       "      <td>5.529064</td>\n",
       "    </tr>\n",
       "    <tr>\n",
       "      <th>1</th>\n",
       "      <td>-114.47</td>\n",
       "      <td>34.40</td>\n",
       "      <td>19.0</td>\n",
       "      <td>7650.0</td>\n",
       "      <td>1901.0</td>\n",
       "      <td>1129.0</td>\n",
       "      <td>463.0</td>\n",
       "      <td>1.8200</td>\n",
       "      <td>80100.0</td>\n",
       "      <td>6.775908</td>\n",
       "    </tr>\n",
       "    <tr>\n",
       "      <th>2</th>\n",
       "      <td>-114.56</td>\n",
       "      <td>33.69</td>\n",
       "      <td>17.0</td>\n",
       "      <td>720.0</td>\n",
       "      <td>174.0</td>\n",
       "      <td>333.0</td>\n",
       "      <td>117.0</td>\n",
       "      <td>1.6509</td>\n",
       "      <td>85700.0</td>\n",
       "      <td>2.162162</td>\n",
       "    </tr>\n",
       "    <tr>\n",
       "      <th>3</th>\n",
       "      <td>-114.57</td>\n",
       "      <td>33.64</td>\n",
       "      <td>14.0</td>\n",
       "      <td>1501.0</td>\n",
       "      <td>337.0</td>\n",
       "      <td>515.0</td>\n",
       "      <td>226.0</td>\n",
       "      <td>3.1917</td>\n",
       "      <td>73400.0</td>\n",
       "      <td>2.914563</td>\n",
       "    </tr>\n",
       "    <tr>\n",
       "      <th>4</th>\n",
       "      <td>-114.57</td>\n",
       "      <td>33.57</td>\n",
       "      <td>20.0</td>\n",
       "      <td>1454.0</td>\n",
       "      <td>326.0</td>\n",
       "      <td>624.0</td>\n",
       "      <td>262.0</td>\n",
       "      <td>1.9250</td>\n",
       "      <td>65500.0</td>\n",
       "      <td>2.330128</td>\n",
       "    </tr>\n",
       "    <tr>\n",
       "      <th>...</th>\n",
       "      <td>...</td>\n",
       "      <td>...</td>\n",
       "      <td>...</td>\n",
       "      <td>...</td>\n",
       "      <td>...</td>\n",
       "      <td>...</td>\n",
       "      <td>...</td>\n",
       "      <td>...</td>\n",
       "      <td>...</td>\n",
       "      <td>...</td>\n",
       "    </tr>\n",
       "    <tr>\n",
       "      <th>16995</th>\n",
       "      <td>-124.26</td>\n",
       "      <td>40.58</td>\n",
       "      <td>52.0</td>\n",
       "      <td>2217.0</td>\n",
       "      <td>394.0</td>\n",
       "      <td>907.0</td>\n",
       "      <td>369.0</td>\n",
       "      <td>2.3571</td>\n",
       "      <td>111400.0</td>\n",
       "      <td>2.444322</td>\n",
       "    </tr>\n",
       "    <tr>\n",
       "      <th>16996</th>\n",
       "      <td>-124.27</td>\n",
       "      <td>40.69</td>\n",
       "      <td>36.0</td>\n",
       "      <td>2349.0</td>\n",
       "      <td>528.0</td>\n",
       "      <td>1194.0</td>\n",
       "      <td>465.0</td>\n",
       "      <td>2.5179</td>\n",
       "      <td>79000.0</td>\n",
       "      <td>1.967337</td>\n",
       "    </tr>\n",
       "    <tr>\n",
       "      <th>16997</th>\n",
       "      <td>-124.30</td>\n",
       "      <td>41.84</td>\n",
       "      <td>17.0</td>\n",
       "      <td>2677.0</td>\n",
       "      <td>531.0</td>\n",
       "      <td>1244.0</td>\n",
       "      <td>456.0</td>\n",
       "      <td>3.0313</td>\n",
       "      <td>103600.0</td>\n",
       "      <td>2.151929</td>\n",
       "    </tr>\n",
       "    <tr>\n",
       "      <th>16998</th>\n",
       "      <td>-124.30</td>\n",
       "      <td>41.80</td>\n",
       "      <td>19.0</td>\n",
       "      <td>2672.0</td>\n",
       "      <td>552.0</td>\n",
       "      <td>1298.0</td>\n",
       "      <td>478.0</td>\n",
       "      <td>1.9797</td>\n",
       "      <td>85800.0</td>\n",
       "      <td>2.058552</td>\n",
       "    </tr>\n",
       "    <tr>\n",
       "      <th>16999</th>\n",
       "      <td>-124.35</td>\n",
       "      <td>40.54</td>\n",
       "      <td>52.0</td>\n",
       "      <td>1820.0</td>\n",
       "      <td>300.0</td>\n",
       "      <td>806.0</td>\n",
       "      <td>270.0</td>\n",
       "      <td>3.0147</td>\n",
       "      <td>94600.0</td>\n",
       "      <td>2.258065</td>\n",
       "    </tr>\n",
       "  </tbody>\n",
       "</table>\n",
       "<p>17000 rows × 10 columns</p>\n",
       "</div>"
      ],
      "text/plain": [
       "       longitude  latitude  housing_median_age  total_rooms  total_bedrooms  \\\n",
       "0        -114.31     34.19                15.0       5612.0          1283.0   \n",
       "1        -114.47     34.40                19.0       7650.0          1901.0   \n",
       "2        -114.56     33.69                17.0        720.0           174.0   \n",
       "3        -114.57     33.64                14.0       1501.0           337.0   \n",
       "4        -114.57     33.57                20.0       1454.0           326.0   \n",
       "...          ...       ...                 ...          ...             ...   \n",
       "16995    -124.26     40.58                52.0       2217.0           394.0   \n",
       "16996    -124.27     40.69                36.0       2349.0           528.0   \n",
       "16997    -124.30     41.84                17.0       2677.0           531.0   \n",
       "16998    -124.30     41.80                19.0       2672.0           552.0   \n",
       "16999    -124.35     40.54                52.0       1820.0           300.0   \n",
       "\n",
       "       population  households  median_income  median_house_value  \\\n",
       "0          1015.0       472.0         1.4936             66900.0   \n",
       "1          1129.0       463.0         1.8200             80100.0   \n",
       "2           333.0       117.0         1.6509             85700.0   \n",
       "3           515.0       226.0         3.1917             73400.0   \n",
       "4           624.0       262.0         1.9250             65500.0   \n",
       "...           ...         ...            ...                 ...   \n",
       "16995       907.0       369.0         2.3571            111400.0   \n",
       "16996      1194.0       465.0         2.5179             79000.0   \n",
       "16997      1244.0       456.0         3.0313            103600.0   \n",
       "16998      1298.0       478.0         1.9797             85800.0   \n",
       "16999       806.0       270.0         3.0147             94600.0   \n",
       "\n",
       "       avg_rooms_per_person  \n",
       "0                  5.529064  \n",
       "1                  6.775908  \n",
       "2                  2.162162  \n",
       "3                  2.914563  \n",
       "4                  2.330128  \n",
       "...                     ...  \n",
       "16995              2.444322  \n",
       "16996              1.967337  \n",
       "16997              2.151929  \n",
       "16998              2.058552  \n",
       "16999              2.258065  \n",
       "\n",
       "[17000 rows x 10 columns]"
      ]
     },
     "execution_count": 24,
     "metadata": {},
     "output_type": "execute_result"
    }
   ],
   "source": [
    "housing_df[\"avg_rooms_per_person\"] = housing_df[\"total_rooms\"] / housing_df[\"population\"]\n",
    "housing_df"
   ]
  },
  {
   "cell_type": "markdown",
   "metadata": {},
   "source": [
    "Q2 Sorting: Find the 10 districts with the lowest population. Display your result sorted by population in ascending order. (Hint: Use .sort_values())."
   ]
  },
  {
   "cell_type": "code",
   "execution_count": 26,
   "metadata": {},
   "outputs": [
    {
     "data": {
      "application/vnd.microsoft.datawrangler.viewer.v0+json": {
       "columns": [
        {
         "name": "index",
         "rawType": "int64",
         "type": "integer"
        },
        {
         "name": "longitude",
         "rawType": "float64",
         "type": "float"
        },
        {
         "name": "latitude",
         "rawType": "float64",
         "type": "float"
        },
        {
         "name": "housing_median_age",
         "rawType": "float64",
         "type": "float"
        },
        {
         "name": "total_rooms",
         "rawType": "float64",
         "type": "float"
        },
        {
         "name": "total_bedrooms",
         "rawType": "float64",
         "type": "float"
        },
        {
         "name": "population",
         "rawType": "float64",
         "type": "float"
        },
        {
         "name": "households",
         "rawType": "float64",
         "type": "float"
        },
        {
         "name": "median_income",
         "rawType": "float64",
         "type": "float"
        },
        {
         "name": "median_house_value",
         "rawType": "float64",
         "type": "float"
        },
        {
         "name": "avg_rooms_per_person",
         "rawType": "float64",
         "type": "float"
        }
       ],
       "ref": "3055d942-372a-4cc6-a567-e65f6dc4e490",
       "rows": [
        [
         "8232",
         "-118.44",
         "34.04",
         "16.0",
         "18.0",
         "6.0",
         "3.0",
         "4.0",
         "0.536",
         "350000.0",
         "6.0"
        ],
        [
         "2990",
         "-117.79",
         "35.21",
         "4.0",
         "2.0",
         "2.0",
         "6.0",
         "2.0",
         "2.375",
         "137500.0",
         "0.3333333333333333"
        ],
        [
         "14105",
         "-122.06",
         "37.39",
         "26.0",
         "18.0",
         "4.0",
         "8.0",
         "4.0",
         "3.75",
         "375000.0",
         "2.25"
        ],
        [
         "2907",
         "-117.76",
         "35.22",
         "4.0",
         "18.0",
         "3.0",
         "8.0",
         "6.0",
         "1.625",
         "275000.0",
         "2.25"
        ],
        [
         "288",
         "-116.76",
         "34.14",
         "4.0",
         "42.0",
         "10.0",
         "9.0",
         "3.0",
         "0.536",
         "42500.0",
         "4.666666666666667"
        ]
       ],
       "shape": {
        "columns": 10,
        "rows": 5
       }
      },
      "text/html": [
       "<div>\n",
       "<style scoped>\n",
       "    .dataframe tbody tr th:only-of-type {\n",
       "        vertical-align: middle;\n",
       "    }\n",
       "\n",
       "    .dataframe tbody tr th {\n",
       "        vertical-align: top;\n",
       "    }\n",
       "\n",
       "    .dataframe thead th {\n",
       "        text-align: right;\n",
       "    }\n",
       "</style>\n",
       "<table border=\"1\" class=\"dataframe\">\n",
       "  <thead>\n",
       "    <tr style=\"text-align: right;\">\n",
       "      <th></th>\n",
       "      <th>longitude</th>\n",
       "      <th>latitude</th>\n",
       "      <th>housing_median_age</th>\n",
       "      <th>total_rooms</th>\n",
       "      <th>total_bedrooms</th>\n",
       "      <th>population</th>\n",
       "      <th>households</th>\n",
       "      <th>median_income</th>\n",
       "      <th>median_house_value</th>\n",
       "      <th>avg_rooms_per_person</th>\n",
       "    </tr>\n",
       "  </thead>\n",
       "  <tbody>\n",
       "    <tr>\n",
       "      <th>8232</th>\n",
       "      <td>-118.44</td>\n",
       "      <td>34.04</td>\n",
       "      <td>16.0</td>\n",
       "      <td>18.0</td>\n",
       "      <td>6.0</td>\n",
       "      <td>3.0</td>\n",
       "      <td>4.0</td>\n",
       "      <td>0.536</td>\n",
       "      <td>350000.0</td>\n",
       "      <td>6.000000</td>\n",
       "    </tr>\n",
       "    <tr>\n",
       "      <th>2990</th>\n",
       "      <td>-117.79</td>\n",
       "      <td>35.21</td>\n",
       "      <td>4.0</td>\n",
       "      <td>2.0</td>\n",
       "      <td>2.0</td>\n",
       "      <td>6.0</td>\n",
       "      <td>2.0</td>\n",
       "      <td>2.375</td>\n",
       "      <td>137500.0</td>\n",
       "      <td>0.333333</td>\n",
       "    </tr>\n",
       "    <tr>\n",
       "      <th>14105</th>\n",
       "      <td>-122.06</td>\n",
       "      <td>37.39</td>\n",
       "      <td>26.0</td>\n",
       "      <td>18.0</td>\n",
       "      <td>4.0</td>\n",
       "      <td>8.0</td>\n",
       "      <td>4.0</td>\n",
       "      <td>3.750</td>\n",
       "      <td>375000.0</td>\n",
       "      <td>2.250000</td>\n",
       "    </tr>\n",
       "    <tr>\n",
       "      <th>2907</th>\n",
       "      <td>-117.76</td>\n",
       "      <td>35.22</td>\n",
       "      <td>4.0</td>\n",
       "      <td>18.0</td>\n",
       "      <td>3.0</td>\n",
       "      <td>8.0</td>\n",
       "      <td>6.0</td>\n",
       "      <td>1.625</td>\n",
       "      <td>275000.0</td>\n",
       "      <td>2.250000</td>\n",
       "    </tr>\n",
       "    <tr>\n",
       "      <th>288</th>\n",
       "      <td>-116.76</td>\n",
       "      <td>34.14</td>\n",
       "      <td>4.0</td>\n",
       "      <td>42.0</td>\n",
       "      <td>10.0</td>\n",
       "      <td>9.0</td>\n",
       "      <td>3.0</td>\n",
       "      <td>0.536</td>\n",
       "      <td>42500.0</td>\n",
       "      <td>4.666667</td>\n",
       "    </tr>\n",
       "  </tbody>\n",
       "</table>\n",
       "</div>"
      ],
      "text/plain": [
       "       longitude  latitude  housing_median_age  total_rooms  total_bedrooms  \\\n",
       "8232     -118.44     34.04                16.0         18.0             6.0   \n",
       "2990     -117.79     35.21                 4.0          2.0             2.0   \n",
       "14105    -122.06     37.39                26.0         18.0             4.0   \n",
       "2907     -117.76     35.22                 4.0         18.0             3.0   \n",
       "288      -116.76     34.14                 4.0         42.0            10.0   \n",
       "\n",
       "       population  households  median_income  median_house_value  \\\n",
       "8232          3.0         4.0          0.536            350000.0   \n",
       "2990          6.0         2.0          2.375            137500.0   \n",
       "14105         8.0         4.0          3.750            375000.0   \n",
       "2907          8.0         6.0          1.625            275000.0   \n",
       "288           9.0         3.0          0.536             42500.0   \n",
       "\n",
       "       avg_rooms_per_person  \n",
       "8232               6.000000  \n",
       "2990               0.333333  \n",
       "14105              2.250000  \n",
       "2907               2.250000  \n",
       "288                4.666667  "
      ]
     },
     "execution_count": 26,
     "metadata": {},
     "output_type": "execute_result"
    }
   ],
   "source": [
    "housing_df.sort_values(by=[\"population\"],ascending=True).head()"
   ]
  },
  {
   "cell_type": "markdown",
   "metadata": {},
   "source": [
    "Q3 Binning and Grouping: Let's create our own categories.\n",
    "\n",
    "First, create a new column called age_group.\n",
    "\n",
    "This column should categorize houses as 'New' (if housing_median_age < 15), 'Old' (if housing_median_age > 35), or 'Medium' for everything in between.\n",
    "\n",
    "Now, group by your new age_group column and find the average median_house_value for each group. (Hint: Use .groupby())."
   ]
  },
  {
   "cell_type": "code",
   "execution_count": 32,
   "metadata": {},
   "outputs": [
    {
     "name": "stdout",
     "output_type": "stream",
     "text": [
      "   housing_median_age age_group\n",
      "0                15.0    Medium\n",
      "1                19.0    Medium\n",
      "2                17.0    Medium\n",
      "3                14.0       New\n",
      "4                20.0    Medium\n"
     ]
    },
    {
     "data": {
      "application/vnd.microsoft.datawrangler.viewer.v0+json": {
       "columns": [
        {
         "name": "age_group",
         "rawType": "object",
         "type": "string"
        },
        {
         "name": "median_house_value",
         "rawType": "float64",
         "type": "float"
        }
       ],
       "ref": "a18e9e8e-b52c-4725-9a1a-0d6f174ad75c",
       "rows": [
        [
         "Medium",
         "202933.10463157896"
        ],
        [
         "New",
         "194806.65136422694"
        ],
        [
         "Old",
         "220851.94721633598"
        ]
       ],
       "shape": {
        "columns": 1,
        "rows": 3
       }
      },
      "text/plain": [
       "age_group\n",
       "Medium    202933.104632\n",
       "New       194806.651364\n",
       "Old       220851.947216\n",
       "Name: median_house_value, dtype: float64"
      ]
     },
     "execution_count": 32,
     "metadata": {},
     "output_type": "execute_result"
    }
   ],
   "source": [
    "# First, create the column with the default value 'Medium'\n",
    "housing_df['age_group'] = 'Medium'\n",
    "\n",
    "# Use .loc to find rows where the condition is true and set the new value\n",
    "housing_df.loc[housing_df['housing_median_age'] < 15, 'age_group'] = 'New'\n",
    "housing_df.loc[housing_df['housing_median_age'] > 35, 'age_group'] = 'Old'\n",
    "\n",
    "# Check the result\n",
    "print(housing_df[[\"housing_median_age\", \"age_group\"]].head())\n",
    "\n",
    "# Group by 'age_group', find the mean of all columns, then select the 'median_house_value' column\n",
    "housing_df.groupby('age_group').mean()['median_house_value']"
   ]
  },
  {
   "cell_type": "markdown",
   "metadata": {},
   "source": [
    "Q4 Chaining Methods: In a single line of code, find the median housing_median_age for houses that have a median_house_value of over $450,000."
   ]
  },
  {
   "cell_type": "code",
   "execution_count": 35,
   "metadata": {},
   "outputs": [
    {
     "data": {
      "text/plain": [
       "np.float64(33.540642722117205)"
      ]
     },
     "execution_count": 35,
     "metadata": {},
     "output_type": "execute_result"
    }
   ],
   "source": [
    "housing_df.loc[housing_df[\"median_house_value\"]>450000][\"housing_median_age\"].mean()"
   ]
  }
 ],
 "metadata": {
  "kernelspec": {
   "display_name": "Python 3",
   "language": "python",
   "name": "python3"
  },
  "language_info": {
   "codemirror_mode": {
    "name": "ipython",
    "version": 3
   },
   "file_extension": ".py",
   "mimetype": "text/x-python",
   "name": "python",
   "nbconvert_exporter": "python",
   "pygments_lexer": "ipython3",
   "version": "3.11.9"
  }
 },
 "nbformat": 4,
 "nbformat_minor": 2
}
