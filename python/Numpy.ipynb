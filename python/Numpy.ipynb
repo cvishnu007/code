{
 "cells": [
  {
   "cell_type": "markdown",
   "metadata": {},
   "source": [
    "### NUMPY"
   ]
  },
  {
   "cell_type": "code",
   "execution_count": 1,
   "metadata": {},
   "outputs": [],
   "source": [
    "import numpy as np"
   ]
  },
  {
   "cell_type": "markdown",
   "metadata": {},
   "source": [
    "### Beginer Questions - The Basics"
   ]
  },
  {
   "cell_type": "markdown",
   "metadata": {},
   "source": [
    "Q1 . Create from a List: Create a 2D NumPy array from the following Python list: [[10, 20, 30], [40, 50, 60]]."
   ]
  },
  {
   "cell_type": "code",
   "execution_count": 2,
   "metadata": {},
   "outputs": [
    {
     "name": "stdout",
     "output_type": "stream",
     "text": [
      "[[10 20 30]\n",
      " [40 50 60]]\n"
     ]
    }
   ],
   "source": [
    "l1 = [10,20,30]\n",
    "l2 = [40,50,60]\n",
    "arr = np.array([l1,l2])\n",
    "print(arr)"
   ]
  },
  {
   "cell_type": "markdown",
   "metadata": {},
   "source": [
    "Q2 . Generate a Sequence: Create a 1D array containing all integers from 10 to 49."
   ]
  },
  {
   "cell_type": "code",
   "execution_count": 4,
   "metadata": {},
   "outputs": [
    {
     "name": "stdout",
     "output_type": "stream",
     "text": [
      "[10 11 12 13 14 15 16 17 18 19 20 21 22 23 24 25 26 27 28 29 30 31 32 33\n",
      " 34 35 36 37 38 39 40 41 42 43 44 45 46 47 48 49]\n"
     ]
    }
   ],
   "source": [
    "arr1 = np.arange(10,50,1)\n",
    "print(arr1)"
   ]
  },
  {
   "cell_type": "markdown",
   "metadata": {},
   "source": [
    "Q3 . Create a Matrix of Ones: Create a 3x3 matrix where all elements are the number 1."
   ]
  },
  {
   "cell_type": "code",
   "execution_count": 5,
   "metadata": {},
   "outputs": [
    {
     "name": "stdout",
     "output_type": "stream",
     "text": [
      "[[1. 1. 1.]\n",
      " [1. 1. 1.]\n",
      " [1. 1. 1.]]\n"
     ]
    }
   ],
   "source": [
    "one_arary = np.ones((3,3))\n",
    "print(one_arary)"
   ]
  },
  {
   "cell_type": "markdown",
   "metadata": {},
   "source": [
    "Q4 . Find Attributes: For the array you created in question 1, find its shape, size, and data type"
   ]
  },
  {
   "cell_type": "code",
   "execution_count": 11,
   "metadata": {},
   "outputs": [
    {
     "name": "stdout",
     "output_type": "stream",
     "text": [
      "(2, 3) 6 int64\n"
     ]
    }
   ],
   "source": [
    "print(arr.shape , arr.size , arr.dtype)"
   ]
  },
  {
   "cell_type": "markdown",
   "metadata": {},
   "source": [
    "Q5 . Basic Indexing: From the array [[1, 2, 3], [4, 5, 6], [7, 8, 9]], select the element 6."
   ]
  },
  {
   "cell_type": "code",
   "execution_count": 20,
   "metadata": {},
   "outputs": [
    {
     "name": "stdout",
     "output_type": "stream",
     "text": [
      "6\n",
      "[[2 3]\n",
      " [5 6]]\n"
     ]
    }
   ],
   "source": [
    "arr5  = np.array([[1,2,3],[4,5,6],[7,8,9]])\n",
    "print(arr5[1][2])\n",
    "print(arr5[:2,1:])"
   ]
  },
  {
   "cell_type": "markdown",
   "metadata": {},
   "source": [
    "### Level 2 - Data Wrangling and manipulation"
   ]
  },
  {
   "cell_type": "markdown",
   "metadata": {},
   "source": [
    "Q1 Reshape an Array: Create a 1D array of 12 consecutive numbers starting from 0. Reshape it into a 4x3 matrix."
   ]
  },
  {
   "cell_type": "code",
   "execution_count": 21,
   "metadata": {},
   "outputs": [
    {
     "name": "stdout",
     "output_type": "stream",
     "text": [
      "[[ 0  1  2]\n",
      " [ 3  4  5]\n",
      " [ 6  7  8]\n",
      " [ 9 10 11]]\n"
     ]
    }
   ],
   "source": [
    "arr1 = np.arange(0,12)\n",
    "arr1 = arr1.reshape((4,3))\n",
    "print(arr1)"
   ]
  },
  {
   "cell_type": "markdown",
   "metadata": {},
   "source": [
    "Q2 Boolean Filtering: Given an array A = np.arange(10), create a new array that contains only the elements of A that are greater than 5."
   ]
  },
  {
   "cell_type": "code",
   "execution_count": 22,
   "metadata": {},
   "outputs": [
    {
     "name": "stdout",
     "output_type": "stream",
     "text": [
      "[6 7 8 9]\n"
     ]
    }
   ],
   "source": [
    "A = np.arange(10)\n",
    "B = A[A > 5]\n",
    "print(B)"
   ]
  },
  {
   "cell_type": "markdown",
   "metadata": {},
   "source": [
    "Q3 Conditional Replacement: Given the array A from the previous question, create a new array where all odd numbers are replaced with -1. (Hint: Use np.where)."
   ]
  },
  {
   "cell_type": "code",
   "execution_count": 29,
   "metadata": {},
   "outputs": [
    {
     "name": "stdout",
     "output_type": "stream",
     "text": [
      "[-1  1 -1  3 -1  5 -1  7 -1  9]\n"
     ]
    }
   ],
   "source": [
    "C = np.where(A%2==1,A,-1)\n",
    "print(C)"
   ]
  },
  {
   "cell_type": "markdown",
   "metadata": {},
   "source": [
    "\n",
    "### Your Swapped Code ✅\n",
    "\n",
    "`np.where(A % 2 == 1, A, -1)`\n",
    "\n",
    "Now let's translate this version:\n",
    "\n",
    "  * **Condition**: Is the number odd (`A % 2 == 1`)? (This is still the same condition).\n",
    "  * **Value if `True`**: If it *is* odd, use the original number from `A`.\n",
    "  * **Value if `False`**: If it *is not* odd (meaning it's even), use `-1`.\n",
    "\n",
    "**Result**: Even numbers become -1.\n",
    "\n",
    "So, by swapping the last two parameters, you flipped the logic of which numbers get replaced.\n",
    "\n",
    "Here's the code to prove it:\n",
    "\n",
    "```python\n",
    "import numpy as np\n",
    "A = np.arange(10) # A is [0 1 2 3 4 5 6 7 8 9]\n",
    "\n",
    "# Original: Odd numbers become -1\n",
    "C_original = np.where(A % 2 == 1, -1, A)\n",
    "print(\"Original logic:\", C_original)\n",
    "# Output: Original logic: [ 0 -1  2 -1  4 -1  6 -1  8 -1]\n",
    "\n",
    "# Swapped: Even numbers become -1\n",
    "C_swapped = np.where(A % 2 == 1, A, -1)\n",
    "print(\"Swapped logic: \", C_swapped)\n",
    "# Output: Swapped logic:  [-1  1 -1  3 -1  5 -1  7 -1  9]\n",
    "```"
   ]
  },
  {
   "cell_type": "markdown",
   "metadata": {},
   "source": [
    "Q4 Stacking Arrays: Given two arrays, a = np.arange(1, 5) and b = np.arange(5, 9), stack them vertically (to create 2 rows) and then horizontally (to create a single long row)"
   ]
  },
  {
   "cell_type": "code",
   "execution_count": 32,
   "metadata": {},
   "outputs": [
    {
     "data": {
      "text/plain": [
       "array([1, 2, 3, 4, 5, 6, 7, 8])"
      ]
     },
     "execution_count": 32,
     "metadata": {},
     "output_type": "execute_result"
    }
   ],
   "source": [
    "a = np.arange(1,5)\n",
    "b = np.arange(5,9)\n",
    "c = np.array([a,b])\n",
    "d = np.append(a,b)\n",
    "d"
   ]
  },
  {
   "cell_type": "markdown",
   "metadata": {},
   "source": [
    "Q5 Find Common Items: Find the common values between two arrays: a = np.array([1, 2, 3, 4, 5]) and b = np.array([3, 5, 7, 9]). (Hint: Look into np.intersect1d)."
   ]
  },
  {
   "cell_type": "code",
   "execution_count": 33,
   "metadata": {},
   "outputs": [
    {
     "data": {
      "text/plain": [
       "array([3, 5])"
      ]
     },
     "execution_count": 33,
     "metadata": {},
     "output_type": "execute_result"
    }
   ],
   "source": [
    "a = np.array([1,2,3,4,5])\n",
    "b = np.array([3,5,6,7,9])\n",
    "c = np.intersect1d(b,a)\n",
    "c"
   ]
  },
  {
   "cell_type": "markdown",
   "metadata": {},
   "source": [
    "### Level 3: Statistics & Data Analysis"
   ]
  },
  {
   "cell_type": "markdown",
   "metadata": {},
   "source": [
    "imagine you have the following dataset representing the scores of 4 students in 3 subjects.\n",
    "scores = np.array([[80, 85, 90], [75, 88, 92], [90, 91, 86], [82, 80, 84]])\n",
    "Where each row is a student and each column is a subject."
   ]
  },
  {
   "cell_type": "markdown",
   "metadata": {},
   "source": [
    "Q1 Calculate Overall Mean: Find the average score across all subjects for all students."
   ]
  },
  {
   "cell_type": "code",
   "execution_count": 40,
   "metadata": {},
   "outputs": [
    {
     "name": "stdout",
     "output_type": "stream",
     "text": [
      "[85. 85. 82.]\n"
     ]
    }
   ],
   "source": [
    "scores = np.array([[80,85,90],[75,88,92],[82,80,84]])\n",
    "avg_marks = []\n",
    "for i in scores:\n",
    "    avg_marks.append(np.mean(i))\n",
    "avg_marks = np.array(avg_marks)\n",
    "print(avg_marks)"
   ]
  },
  {
   "cell_type": "markdown",
   "metadata": {},
   "source": [
    "Q2. Calculate Mean by Subject: Find the average score for each subject. The result should be a 1D array with 3 values. (Hint: Use the axis parameter)."
   ]
  },
  {
   "cell_type": "code",
   "execution_count": 42,
   "metadata": {},
   "outputs": [
    {
     "name": "stdout",
     "output_type": "stream",
     "text": [
      "[79.         84.33333333 88.66666667]\n"
     ]
    }
   ],
   "source": [
    "scores = np.array([[80,85,90],[75,88,92],[82,80,84]])\n",
    "avg_sub = np.array(np.mean(scores,axis=0))\n",
    "print(avg_sub)"
   ]
  },
  {
   "cell_type": "markdown",
   "metadata": {},
   "source": [
    "Q3 Find the Best Student: Find the average score for each student and identify which student (which row index) has the highest average. (Hint: Use mean with the correct axis, then np.argmax)."
   ]
  },
  {
   "cell_type": "code",
   "execution_count": 46,
   "metadata": {},
   "outputs": [
    {
     "name": "stdout",
     "output_type": "stream",
     "text": [
      "0\n",
      "0\n"
     ]
    }
   ],
   "source": [
    "means = np.mean(scores,axis=1)\n",
    "means = list(means)\n",
    "print(np.array(means.index(max(means))))\n",
    "# does the same thing as above 2 lines\n",
    "print(np.argmax(means))"
   ]
  },
  {
   "cell_type": "markdown",
   "metadata": {},
   "source": [
    "Q4 Normalize Data (Standardization): Normalize the scores matrix. For each column (subject), subtract its mean and divide by its standard deviation. This process, called standardization, is a critical preprocessing step in machine learning. 🤓\n",
    "\n",
    "Formula for standardization: Z= \n",
    "σ\n",
    "X−μ"
   ]
  },
  {
   "cell_type": "code",
   "execution_count": 48,
   "metadata": {},
   "outputs": [
    {
     "name": "stdout",
     "output_type": "stream",
     "text": [
      "[[ 0.33968311 -1.35873244  1.01904933]\n",
      " [ 0.20203051  1.1111678  -1.31319831]\n",
      " [ 0.39223227  0.98058068 -1.37281295]]\n"
     ]
    }
   ],
   "source": [
    "scores_t = scores.T\n",
    "norm_score_sub = np.zeros(scores_t.shape)\n",
    "sd = []\n",
    "means = []\n",
    "for i in scores_t:\n",
    "    sd.append(np.std(i))\n",
    "    means.append(np.mean(i))\n",
    "for i in range(0,len(sd)):\n",
    "    norm_score_sub[i] = (scores_t[i] - means[i])/sd[i]\n",
    "\n",
    "print(norm_score_sub)\n"
   ]
  },
  {
   "cell_type": "markdown",
   "metadata": {},
   "source": [
    "### Level 4: Machine Learning & Linear Algebra"
   ]
  },
  {
   "cell_type": "markdown",
   "metadata": {},
   "source": [
    "Q1. Calculate Euclidean Distance: Create a function that takes two 1D arrays (vectors) of the same size and returns their Euclidean distance. This is the core of algorithms like K-Nearest Neighbors (k-NN)."
   ]
  },
  {
   "cell_type": "code",
   "execution_count": null,
   "metadata": {},
   "outputs": [
    {
     "name": "stdout",
     "output_type": "stream",
     "text": [
      "11.180339887498949\n"
     ]
    }
   ],
   "source": [
    "def euclidean_distacne(arr1,arr2):\n",
    "    arr = np.array(np.sqrt(np.sum(np.square(arr1-arr2))))\n",
    "    print(arr)\n",
    "    return arr\n",
    "arr1 = np.array([1,2,3,4,5])\n",
    "arr2 = np.array([6,7,8,9,10])\n",
    "arr3 = euclidean_distacne(arr1,arr2)"
   ]
  },
  {
   "cell_type": "markdown",
   "metadata": {},
   "source": [
    "Q2. One-Hot Encode Labels: You have an array of labels labels = np.array([0, 2, 1, 0, 1]). Convert this into a one-hot encoded matrix. The result should be a 5x3 matrix where the column corresponding to the label is 1 and the rest are 0."
   ]
  },
  {
   "cell_type": "code",
   "execution_count": 55,
   "metadata": {},
   "outputs": [
    {
     "name": "stdout",
     "output_type": "stream",
     "text": [
      "[[1. 0. 0. 1. 0.]\n",
      " [0. 0. 1. 0. 1.]\n",
      " [0. 1. 0. 0. 0.]]\n"
     ]
    }
   ],
   "source": [
    "labels = np.array([0, 2, 1, 0, 1])\n",
    "list_l = []\n",
    "for i in labels:\n",
    "    if i not in list_l:\n",
    "        list_l.append(i)\n",
    "list_l = np.array(list_l)\n",
    "encode = np.zeros((len(list_l),len(labels)))\n",
    "for index, value in enumerate(labels):\n",
    "  encode[value][index] = 1\n",
    "print(encode)\n"
   ]
  },
  {
   "cell_type": "markdown",
   "metadata": {},
   "source": [
    "Q3. Solve for Linear Regression Weights: This is a classic! Given a feature matrix X and a target vector y, calculate the optimal weights w using the Normal Equation"
   ]
  },
  {
   "cell_type": "code",
   "execution_count": 56,
   "metadata": {},
   "outputs": [
    {
     "name": "stdout",
     "output_type": "stream",
     "text": [
      "[0.16666667 1.5       ]\n"
     ]
    }
   ],
   "source": [
    "X = np.array([[1, 2], [1, 3], [1, 4]]) # Don't forget the bias term (first column of 1s)\n",
    "y = np.array([3, 5, 6])\n",
    "\n",
    "mul_comp = np.linalg.inv(X.T @ X)\n",
    "final_answer = mul_comp @ X.T @ y\n",
    "\n",
    "print(final_answer)"
   ]
  }
 ],
 "metadata": {
  "kernelspec": {
   "display_name": "Python 3",
   "language": "python",
   "name": "python3"
  },
  "language_info": {
   "codemirror_mode": {
    "name": "ipython",
    "version": 3
   },
   "file_extension": ".py",
   "mimetype": "text/x-python",
   "name": "python",
   "nbconvert_exporter": "python",
   "pygments_lexer": "ipython3",
   "version": "3.11.9"
  }
 },
 "nbformat": 4,
 "nbformat_minor": 2
}
